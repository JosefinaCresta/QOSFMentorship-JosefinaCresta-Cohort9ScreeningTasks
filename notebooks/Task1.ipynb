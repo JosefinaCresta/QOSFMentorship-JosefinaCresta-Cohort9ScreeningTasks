{
 "cells": [
  {
   "cell_type": "markdown",
   "metadata": {},
   "source": [
    "# Task 1: less than $k$ \n",
    "\n",
    "Given a positive integer “k” and a list of integer numbers, look for the numbers within the list, that are less than k. Consider an appropriate number of qubits and explain why your proposal is valid for all kinds of numbers in case \n",
    "\n",
    "```\n",
    "def less_than_k (int:k, list[int] ,list_n):\n",
    "     “””\n",
    "k : integer value that is the positive number to compare in list_n,\n",
    "list_n : integer list that has positive numbers.\n",
    "Return the numbers that are in list_n and are less than k \n",
    "     “””\n",
    "```\n",
    "\n",
    "- use a framework that works with quantum circuits, qiskit, cirq, pennylane, etc. \n",
    "- consider print your quantum circuit,\n",
    "\n",
    "\n",
    "\n",
    "Example:\n",
    "\n",
    "A = less_than_k (7,[4,9,11,14,1,13,6,15])\n",
    "print(A)\n",
    "\n",
    "“4,1,6”\n",
    "\n"
   ]
  },
  {
   "cell_type": "markdown",
   "metadata": {},
   "source": [
    "## **Classical example**"
   ]
  },
  {
   "cell_type": "code",
   "execution_count": 1,
   "metadata": {},
   "outputs": [],
   "source": [
    "# Import the function\n",
    "from src.classical_comparison import less_than_k"
   ]
  },
  {
   "cell_type": "code",
   "execution_count": 2,
   "metadata": {},
   "outputs": [],
   "source": [
    "# Example list and threshold\n",
    "k = 5\n",
    "list_n = [3, 4, 5, 6, 7, 2, 1, 0]"
   ]
  },
  {
   "cell_type": "code",
   "execution_count": 3,
   "metadata": {},
   "outputs": [],
   "source": [
    "# Use the function\n",
    "filtered_numbers = less_than_k(k, list_n)"
   ]
  },
  {
   "cell_type": "code",
   "execution_count": 4,
   "metadata": {},
   "outputs": [
    {
     "name": "stdout",
     "output_type": "stream",
     "text": [
      "Numbers less than 5: [3, 4, 2, 1, 0]\n"
     ]
    }
   ],
   "source": [
    "# Display the result\n",
    "print(f\"Numbers less than {k}: {filtered_numbers}\")"
   ]
  },
  {
   "cell_type": "markdown",
   "metadata": {},
   "source": [
    "## Simple Quantum Circuit that checks if a single qubit state (representing 0 or 1) is less than $k=1$"
   ]
  },
  {
   "cell_type": "code",
   "execution_count": 5,
   "metadata": {},
   "outputs": [],
   "source": [
    "from qiskit import QuantumCircuit, transpile\n",
    "from qiskit_aer import Aer\n",
    "from qiskit.visualization import plot_histogram\n",
    "%matplotlib inline"
   ]
  },
  {
   "cell_type": "code",
   "execution_count": 6,
   "metadata": {},
   "outputs": [],
   "source": [
    "# Initialize the quantum circuit\n",
    "qc = QuantumCircuit(1, 1)  # 1 qubit, 1 classical bit for measurement"
   ]
  },
  {
   "cell_type": "code",
   "execution_count": 7,
   "metadata": {},
   "outputs": [
    {
     "data": {
      "text/plain": [
       "<qiskit.circuit.instructionset.InstructionSet at 0x125ec2d70>"
      ]
     },
     "execution_count": 7,
     "metadata": {},
     "output_type": "execute_result"
    }
   ],
   "source": [
    "# Apply H gate to put the qubit in superposition\n",
    "qc.h(0)"
   ]
  },
  {
   "cell_type": "code",
   "execution_count": 8,
   "metadata": {},
   "outputs": [
    {
     "data": {
      "text/plain": [
       "<qiskit.circuit.instructionset.InstructionSet at 0x125ec3040>"
      ]
     },
     "execution_count": 8,
     "metadata": {},
     "output_type": "execute_result"
    }
   ],
   "source": [
    "# Measure the qubit into the classical bit\n",
    "qc.measure(0, 0)"
   ]
  },
  {
   "cell_type": "code",
   "execution_count": 9,
   "metadata": {},
   "outputs": [],
   "source": [
    "# Define the backend\n",
    "backend = Aer.get_backend('qasm_simulator')"
   ]
  },
  {
   "cell_type": "code",
   "execution_count": 10,
   "metadata": {},
   "outputs": [],
   "source": [
    "# Transpile the circuit for the backend\n",
    "transpiled_circuit = transpile(qc, backend)"
   ]
  },
  {
   "cell_type": "code",
   "execution_count": 11,
   "metadata": {},
   "outputs": [],
   "source": [
    "# Run the transpiled circuit on the backend\n",
    "job = backend.run(transpiled_circuit)"
   ]
  },
  {
   "cell_type": "code",
   "execution_count": 12,
   "metadata": {},
   "outputs": [],
   "source": [
    "# Fetch the results from the job\n",
    "result = job.result()"
   ]
  },
  {
   "cell_type": "code",
   "execution_count": 13,
   "metadata": {},
   "outputs": [],
   "source": [
    "# Get the measurement results\n",
    "counts = result.get_counts(qc)"
   ]
  },
  {
   "cell_type": "code",
   "execution_count": 14,
   "metadata": {},
   "outputs": [
    {
     "name": "stdout",
     "output_type": "stream",
     "text": [
      "{'0': 504, '1': 520}\n"
     ]
    },
    {
     "data": {
      "image/png": "[encoded data removed]",
      "text/plain": [
       "<Figure size 700x500 with 1 Axes>"
      ]
     },
     "execution_count": 14,
     "metadata": {},
     "output_type": "execute_result"
    }
   ],
   "source": [
    "# Display the results\n",
    "print(counts)\n",
    "plot_histogram(counts)"
   ]
  },
  {
   "cell_type": "markdown",
   "metadata": {},
   "source": [
    "### *Interpreting the Result*\n",
    "- The output counts will show how many times each outcome (0 or 1) was observed over the total shots (repetitions of the experiment). Since we used a Hadamard gate, we expect to see roughly equal counts for 0 and 1.\n",
    "- This approach doesn't directly compare values like a classical less-than operation but demonstrates how to prepare, manipulate, and measure qubits in Qiskit.\n",
    "---"
   ]
  },
  {
   "cell_type": "markdown",
   "metadata": {},
   "source": [
    "# After studying **Grove's search**"
   ]
  },
  {
   "cell_type": "markdown",
   "metadata": {},
   "source": [
    "The idea here is to construct a quantum circuit that marks states (representing list elements) that meet a specific condition (being less than k), and then use Grover's algorithm to amplify the probability of observing these states upon measurement."
   ]
  },
  {
   "cell_type": "markdown",
   "metadata": {},
   "source": [
    "We will use a list of integers encoded in a quantum state where each integer is represented by a unique quantum state (using binary representation)"
   ]
  },
  {
   "cell_type": "markdown",
   "metadata": {},
   "source": [
    "The oracle in Grover's algorithm will mark states representing numbers less than k. "
   ]
  },
  {
   "cell_type": "markdown",
   "metadata": {},
   "source": [
    "This is a conceptual outline; the implementation can get quite complex due to the encoding and oracle construction."
   ]
  },
  {
   "cell_type": "markdown",
   "metadata": {},
   "source": [
    "Assume we have a list $L = [0, 1, 2, ..., N-1]$ represented in a quantum register of $log_2(N)$ qubits, and we're looking for elements less than k."
   ]
  },
  {
   "cell_type": "markdown",
   "metadata": {},
   "source": [
    "The oracle flips the sign of the amplitude of states that represent numbers less than $k$. \n",
    "\n",
    "\n",
    "For simplicity, let's consider $k=2$ and $L=[0, 1, 2, 3]$ (2 qubits needed).\n",
    "\n"
   ]
  },
  {
   "cell_type": "markdown",
   "metadata": {},
   "source": [
    "**Grover's Algorithm Overview**\n",
    "- Initialization: Prepare a superposition of all possible states using Hadamard gates.\n",
    "- Oracle: Apply the oracle that marks the states representing numbers less than k.\n",
    "- Amplitude Amplification: Use Grover's diffusion operator to amplify the probability amplitudes of the marked states.\n",
    "- Measurement: Measure the quantum register to observe the marked states with higher probability."
   ]
  },
  {
   "cell_type": "code",
   "execution_count": 15,
   "metadata": {},
   "outputs": [],
   "source": [
    "from qiskit import QuantumCircuit, transpile\n",
    "from qiskit_aer import Aer\n",
    "from qiskit.visualization import plot_histogram\n",
    "from qiskit.circuit.library import GroverOperator\n",
    "from qiskit.quantum_info import Statevector\n",
    "from qiskit.circuit.library import UnitaryGate\n",
    "import numpy as np"
   ]
  },
  {
   "cell_type": "code",
   "execution_count": 16,
   "metadata": {},
   "outputs": [],
   "source": [
    "# Define L and k\n",
    "L = [0, 1, 2, 3]\n",
    "k = 2"
   ]
  },
  {
   "cell_type": "code",
   "execution_count": 17,
   "metadata": {},
   "outputs": [],
   "source": [
    "# Oracle: Marks states less than k (flipping amplitude)\n",
    "# This is a simplified oracle for demonstration.\n",
    "oracle_matrix = np.identity(4)\n",
    "for i in range(k):\n",
    "    oracle_matrix[i, i] = -1"
   ]
  },
  {
   "cell_type": "code",
   "execution_count": 18,
   "metadata": {},
   "outputs": [
    {
     "name": "stdout",
     "output_type": "stream",
     "text": [
      "[[-1.  0.  0.  0.]\n",
      " [ 0. -1.  0.  0.]\n",
      " [ 0.  0.  1.  0.]\n",
      " [ 0.  0.  0.  1.]]\n"
     ]
    }
   ],
   "source": [
    "print(oracle_matrix)"
   ]
  },
  {
   "cell_type": "code",
   "execution_count": 19,
   "metadata": {},
   "outputs": [],
   "source": [
    "oracle = UnitaryGate(oracle_matrix, label=\"Oracle\")"
   ]
  },
  {
   "cell_type": "code",
   "execution_count": 20,
   "metadata": {},
   "outputs": [
    {
     "name": "stdout",
     "output_type": "stream",
     "text": [
      "Instruction(name='unitary', num_qubits=2, num_clbits=0, params=[array([[-1.+0.j,  0.+0.j,  0.+0.j,  0.+0.j],\n",
      "       [ 0.+0.j, -1.+0.j,  0.+0.j,  0.+0.j],\n",
      "       [ 0.+0.j,  0.+0.j,  1.+0.j,  0.+0.j],\n",
      "       [ 0.+0.j,  0.+0.j,  0.+0.j,  1.+0.j]])])\n"
     ]
    }
   ],
   "source": [
    "oracle.to_matrix()\n",
    "print(oracle)"
   ]
  },
  {
   "cell_type": "code",
   "execution_count": 21,
   "metadata": {},
   "outputs": [
    {
     "data": {
      "text/plain": [
       "<qiskit.circuit.instructionset.InstructionSet at 0x125f02320>"
      ]
     },
     "execution_count": 21,
     "metadata": {},
     "output_type": "execute_result"
    }
   ],
   "source": [
    "# Convert the oracle_matrix to a quantum circuit\n",
    "oracle_qc = QuantumCircuit(2)\n",
    "oracle_qc.unitary(oracle_matrix, [0, 1], label='Oracle')"
   ]
  },
  {
   "cell_type": "code",
   "execution_count": 22,
   "metadata": {},
   "outputs": [
    {
     "data": {
      "text/html": [
       "<pre style=\"word-wrap: normal;white-space: pre;background: #fff0;line-height: 1.1;font-family: &quot;Courier New&quot;,Courier,monospace\">     ┌─────────┐\n",
       "q_0: ┤0        ├\n",
       "     │  Oracle │\n",
       "q_1: ┤1        ├\n",
       "     └─────────┘</pre>"
      ],
      "text/plain": [
       "     ┌─────────┐\n",
       "q_0: ┤0        ├\n",
       "     │  Oracle │\n",
       "q_1: ┤1        ├\n",
       "     └─────────┘"
      ]
     },
     "execution_count": 22,
     "metadata": {},
     "output_type": "execute_result"
    }
   ],
   "source": [
    "oracle_qc.to_gate()\n",
    "oracle_qc.draw()"
   ]
  },
  {
   "cell_type": "markdown",
   "metadata": {},
   "source": [
    "### Checking the oracle\n",
    "\n",
    "we will made a superposition state of all of the qubits applying a hadamard gate on each one of them\n",
    "\n",
    "and this way can query each one of the input states simultaneously to the oracle \n",
    "\n",
    "call the simulator backend , the stateVector simulator\n",
    "\n",
    "define the grover circuit (2 qubit 2 classical register)\n",
    "\n",
    "add hadammard gate on both qubit  0 and 1 and this prepare the superposition state `grover_circ.h([0,1])`\n",
    "\n",
    "and append the oracle to query both qubits"
   ]
  },
  {
   "cell_type": "code",
   "execution_count": 23,
   "metadata": {},
   "outputs": [],
   "source": [
    "state_vector_backend = Aer.get_backend('statevector_simulator')"
   ]
  },
  {
   "cell_type": "code",
   "execution_count": 24,
   "metadata": {},
   "outputs": [
    {
     "data": {
      "text/html": [
       "<pre style=\"word-wrap: normal;white-space: pre;background: #fff0;line-height: 1.1;font-family: &quot;Courier New&quot;,Courier,monospace\">     ┌───┐┌──────────────┐\n",
       "q_0: ┤ H ├┤0             ├\n",
       "     ├───┤│  circuit-166 │\n",
       "q_1: ┤ H ├┤1             ├\n",
       "     └───┘└──────────────┘\n",
       "c: 2/═════════════════════\n",
       "                          </pre>"
      ],
      "text/plain": [
       "     ┌───┐┌──────────────┐\n",
       "q_0: ┤ H ├┤0             ├\n",
       "     ├───┤│  circuit-166 │\n",
       "q_1: ┤ H ├┤1             ├\n",
       "     └───┘└──────────────┘\n",
       "c: 2/═════════════════════\n",
       "                          "
      ]
     },
     "execution_count": 24,
     "metadata": {},
     "output_type": "execute_result"
    }
   ],
   "source": [
    "#Here test the oracle with grover_circ \n",
    "#applying H on each qubit and this prepare all four superposition states \n",
    "#and the feed them into the oracle\n",
    "test_oracle_grover_circ = QuantumCircuit(2,2)\n",
    "test_oracle_grover_circ.h([0,1])\n",
    "test_oracle_grover_circ.append(oracle_qc,[0,1])\n",
    "test_oracle_grover_circ.draw()"
   ]
  },
  {
   "cell_type": "markdown",
   "metadata": {},
   "source": [
    "### Continuing with the Grover's algorithm"
   ]
  },
  {
   "cell_type": "code",
   "execution_count": 25,
   "metadata": {},
   "outputs": [],
   "source": [
    "#Create the Grover operator using the oracle circuit\n",
    "grover_operator = GroverOperator(oracle_qc)"
   ]
  },
  {
   "cell_type": "code",
   "execution_count": 26,
   "metadata": {},
   "outputs": [],
   "source": [
    "# Initialize a quantum circuit\n",
    "qc = QuantumCircuit(2, 2)  # 2 qubits and 2 classical bits for measurement"
   ]
  },
  {
   "cell_type": "code",
   "execution_count": 27,
   "metadata": {},
   "outputs": [
    {
     "data": {
      "text/plain": [
       "<qiskit.circuit.instructionset.InstructionSet at 0x125f5c9a0>"
      ]
     },
     "execution_count": 27,
     "metadata": {},
     "output_type": "execute_result"
    }
   ],
   "source": [
    "#Apply Hadamard gates to create superposition\n",
    "qc.h([0, 1])"
   ]
  },
  {
   "cell_type": "code",
   "execution_count": 28,
   "metadata": {},
   "outputs": [
    {
     "data": {
      "text/plain": [
       "<qiskit.circuit.instructionset.InstructionSet at 0x125f5d570>"
      ]
     },
     "execution_count": 28,
     "metadata": {},
     "output_type": "execute_result"
    }
   ],
   "source": [
    "#Append the Grover operator\n",
    "qc.append(grover_operator, [0, 1])"
   ]
  },
  {
   "cell_type": "code",
   "execution_count": 29,
   "metadata": {},
   "outputs": [
    {
     "data": {
      "text/plain": [
       "<qiskit.circuit.instructionset.InstructionSet at 0x125f5c6d0>"
      ]
     },
     "execution_count": 29,
     "metadata": {},
     "output_type": "execute_result"
    }
   ],
   "source": [
    "# Measure the qubits\n",
    "qc.measure([0, 1], [0, 1])"
   ]
  },
  {
   "cell_type": "code",
   "execution_count": 30,
   "metadata": {},
   "outputs": [
    {
     "data": {
      "text/html": [
       "<pre style=\"word-wrap: normal;white-space: pre;background: #fff0;line-height: 1.1;font-family: &quot;Courier New&quot;,Courier,monospace\">     ┌───┐┌────┐┌─┐   \n",
       "q_0: ┤ H ├┤0   ├┤M├───\n",
       "     ├───┤│  Q │└╥┘┌─┐\n",
       "q_1: ┤ H ├┤1   ├─╫─┤M├\n",
       "     └───┘└────┘ ║ └╥┘\n",
       "c: 2/════════════╩══╩═\n",
       "                 0  1 </pre>"
      ],
      "text/plain": [
       "     ┌───┐┌────┐┌─┐   \n",
       "q_0: ┤ H ├┤0   ├┤M├───\n",
       "     ├───┤│  Q │└╥┘┌─┐\n",
       "q_1: ┤ H ├┤1   ├─╫─┤M├\n",
       "     └───┘└────┘ ║ └╥┘\n",
       "c: 2/════════════╩══╩═\n",
       "                 0  1 "
      ]
     },
     "execution_count": 30,
     "metadata": {},
     "output_type": "execute_result"
    }
   ],
   "source": [
    "qc.draw()"
   ]
  },
  {
   "cell_type": "code",
   "execution_count": 31,
   "metadata": {},
   "outputs": [
    {
     "data": {
      "image/png": "[encoded data removed]",
      "text/plain": [
       "<Figure size 700x500 with 1 Axes>"
      ]
     },
     "execution_count": 31,
     "metadata": {},
     "output_type": "execute_result"
    }
   ],
   "source": [
    "# Simulate the circuit\n",
    "backend = Aer.get_backend('qasm_simulator')\n",
    "tqc = transpile(qc, backend)\n",
    "job = backend.run(tqc, shots=1024)\n",
    "result = job.result()\n",
    "\n",
    "# Get counts and plot the histogram\n",
    "counts = result.get_counts()\n",
    "plot_histogram(counts)"
   ]
  },
  {
   "cell_type": "markdown",
   "metadata": {},
   "source": [
    "### *Interpreting the Result*\n",
    "\n",
    "The histogram shows the results of running a quantum circuit with Grover's algorithm. In this particular example, the algorithm was used with an oracle designed to mark states that are less than k=2 in a list L = [0, 1, 2, 3]. The results are represented as counts of the different outcomes, mapped to the possible states of a 2-qubit system: 00, 01, 10, and 11.\n",
    "\n",
    "Let's analyze the result:\n",
    "\n",
    "* The state 00, which corresponds to the number 0 in the list L, has approximately 255 counts.\n",
    "* The state 01, corresponding to the number 1, has approximately 254 counts.\n",
    "* The state 10, corresponding to the number 2, has approximately 241 counts.\n",
    "* The state 11, corresponding to the number 3, has approximately 274 counts.\n",
    "\n",
    "\n",
    "According to Grover's algorithm, we would expect the marked states (those less than k) to have a higher probability of being measured. In an ideal scenario with perfect amplitude amplification and no errors, the counts for 00 and 01 should be significantly higher than those for 10 and 11 because 00 and 01 represent the numbers less than k.\n",
    "\n",
    "However, in the results now, all states are observed with a relatively similar frequency. This outcome suggests that the amplitude amplification didn't work as expected. One possible reasons for this is a insufficient amplification. Grover's algorithm typically requires a specific number of iterations to properly amplify the amplitudes of the marked states. The number of iterations is approximately π/4 * sqrt(N/M), where N is the total number of items, and M is the number of matches (items less than k). Since N=4 and M=2 in your case, theoretically, only one iteration of Grover's algorithm should be needed. However, due to the small size of the list, the exact number of iterations for optimal results can be tricky to determine.\n",
    "\n",
    "---"
   ]
  },
  {
   "cell_type": "markdown",
   "metadata": {},
   "source": [
    "## Final Complete and General Example of Comparison Less than $k$ with Grover's Algorithm"
   ]
  },
  {
   "cell_type": "code",
   "execution_count": 1,
   "metadata": {},
   "outputs": [],
   "source": [
    "# Import the function\n",
    "from src.quantum_comparison import less_than_k_qc"
   ]
  },
  {
   "cell_type": "code",
   "execution_count": 2,
   "metadata": {},
   "outputs": [
    {
     "name": "stdout",
     "output_type": "stream",
     "text": [
      "Searching with Grover's Algorithm using 4 qubits\n",
      "Numbers less than 7: [0, 2, 1, 3, 5, 4, 6]\n"
     ]
    }
   ],
   "source": [
    "# Example usage\n",
    "found_numbers, histogram, num_qubits_used = less_than_k_qc(7, [4, 9, 11, 14, 1, 13, 6, 15])"
   ]
  },
  {
   "cell_type": "code",
   "execution_count": 7,
   "metadata": {},
   "outputs": [
    {
     "data": {
      "image/png": "[encoded data removed]",
      "text/plain": [
       "<Figure size 700x500 with 1 Axes>"
      ]
     },
     "metadata": {},
     "output_type": "display_data"
    }
   ],
   "source": [
    "import matplotlib.pyplot as plt\n",
    "from IPython.display import display\n",
    "histogram.savefig(\"histogram_k7.png\")  # Save the histogram to a file\n",
    "display(histogram) # Show the histogram here "
   ]
  },
  {
   "cell_type": "markdown",
   "metadata": {},
   "source": [
    "### *Interpreting the Result*\n",
    "\n",
    "- The quantum circuit used 4 qubits, which means it can represent numbers from 0 to $2^4 - 1$ or 0 to 15.\n",
    "\n",
    "- The numbers found to be less than 7 are [0, 2, 1, 3, 5, 4, 6]. This is the full set of numbers represented by 4 qubits that are less than 7, which means the algorithm has worked correctly in this instance, identifying all the numbers in the range 0-6.\n",
    "\n",
    "- The histogram shows the counts for all possible states from 0000 to 1111.\n",
    "- States representing numbers less than 7 (0000 to 0110) have higher counts, as expected. These states correspond to the intended search results and they are correctly amplified by Grover's algorithm.\n",
    "- States from 0111 to 1111 have lower counts, which indicates that these states were not marked by the oracle and were not amplified. This matches our expectation because these states represent numbers from 7 to 15, which are not less than 7.\n"
   ]
  },
  {
   "cell_type": "code",
   "execution_count": 6,
   "metadata": {},
   "outputs": [
    {
     "name": "stdout",
     "output_type": "stream",
     "text": [
      "Searching with Grover's Algorithm using 3 qubits\n",
      "Numbers less than 5: [2, 0, 1, 4, 3]\n"
     ]
    },
    {
     "data": {
      "image/png": "[encoded data removed]",
      "text/plain": [
       "<Figure size 700x500 with 1 Axes>"
      ]
     },
     "metadata": {},
     "output_type": "display_data"
    }
   ],
   "source": [
    "# General example\n",
    "k = 5\n",
    "list_n = [3, 4, 5, 6, 7, 2, 1, 0]\n",
    "found_numbersB, histogramB, num_qubits_usedB = less_than_k_qc(k, list_n)\n",
    "histogramB.savefig(f\"histogram_k{k}.png\")  # Save the histogram to a file\n",
    "display(histogramB) # Show the histogram here "
   ]
  },
  {
   "cell_type": "markdown",
   "metadata": {},
   "source": [
    "### *Interpreting the Result*\n",
    "- The search was conducted with 3 qubits, allowing representation of numbers from 0 to 2^3 - 1 or 0 to 7.\n",
    "- The function identified [2, 0, 1, 4, 3] as the numbers less than 5 from the provided list, which is correct.\n",
    "\n",
    "- The histogram shows measurement counts for each state the quantum circuit could represent (000 to 111).\n",
    "The counts for 100 (4 in decimal), 011 (3 in decimal), 010 (2 in decimal), 001 (1 in decimal), and 000 (0 in decimal) should ideally be higher as they represent the numbers less than 5.\n",
    "- The bar for 110 (6 in decimal) is the tallest, indicating that state 6 was measured the most frequently, which is not consistent with the objective since 6 is not less than 5.\n",
    "Assessment:\n",
    "\n",
    "- - There might be a mistake in the number of iterations or in the oracle construction, as the state 6 seems overrepresented compared to states that represent numbers less than 5.\n",
    "- - The algorithm did identify the correct numbers as being less than 5, but the histogram does not show the expected amplification of these states.\n",
    "Observations:\n",
    "\n",
    "Unlike the ideal case, not all numbers less than 5 are represented with higher counts, which might indicate suboptimal parameters or issues within the quantum circuit or oracle design.\n",
    "The histogram is labeled with bitstrings (000 to 111), but it seems that the algorithm may not have run as expected since some non-marked states are represented with high or higher counts than the marked states.\n",
    "It's also possible that the histogram reflects the result of just one iteration of Grover's algorithm, which would not be enough to significantly amplify the marked states.\n",
    "In quantum algorithms like Grover's, it's crucial to tune the number of iterations for the amplitude amplification to work correctly. The optimal number of iterations is roughly proportional to the square root of the number of unmarked states over the marked states, which, in small datasets or those with a large number of solutions, can be challenging to calibrate."
   ]
  },
  {
   "cell_type": "code",
   "execution_count": 8,
   "metadata": {},
   "outputs": [
    {
     "name": "stdout",
     "output_type": "stream",
     "text": [
      "Searching with Grover's Algorithm using 5 qubits\n",
      "Numbers less than 21: [8, 19, 14, 17, 18, 3, 2, 12, 4, 0, 9, 6, 10, 13, 15, 5, 11, 1, 20, 7]\n"
     ]
    },
    {
     "data": {
      "image/png": "[encoded data removed]",
      "text/plain": [
       "<Figure size 700x500 with 1 Axes>"
      ]
     },
     "metadata": {},
     "output_type": "display_data"
    }
   ],
   "source": [
    "# General example\n",
    "k = 21\n",
    "list_n = [1, 5, 10, 15, 25, 30, 23, 7]\n",
    "found_numbersB, histogramB, num_qubits_usedB = less_than_k_qc(k, list_n)\n",
    "histogramB.savefig(f\"histogram_k{k}.png\")  # Save the histogram to a file\n",
    "display(histogramB) # Show the histogram here "
   ]
  },
  {
   "cell_type": "markdown",
   "metadata": {},
   "source": [
    "### *Interpreting the Result*\n",
    "- The process required 5 qubits, allowing the representation of numbers up to \n",
    "$2^5−1=31$\n",
    "\n",
    "- The numbers found to be less than 21 are listed as [8, 19, 14, 17, 18, 3, 2, 12, 4, 0, 9, 6, 10, 13, 15, 5, 11, 1, 20, 7]. All these numbers are indeed less than 21, indicating that the oracle and Grover's algorithm operated correctly."
   ]
  },
  {
   "cell_type": "code",
   "execution_count": null,
   "metadata": {},
   "outputs": [],
   "source": []
  }
 ],
 "metadata": {
  "kernelspec": {
   "display_name": "env",
   "language": "python",
   "name": "python3"
  },
  "language_info": {
   "codemirror_mode": {
    "name": "ipython",
    "version": 3
   },
   "file_extension": ".py",
   "mimetype": "text/x-python",
   "name": "python",
   "nbconvert_exporter": "python",
   "pygments_lexer": "ipython3",
   "version": "3.11.2"
  }
 },
 "nbformat": 4,
 "nbformat_minor": 2
}
