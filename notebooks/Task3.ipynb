{
 "cells": [
  {
   "cell_type": "markdown",
   "metadata": {},
   "source": [
    "# Task 3 ZNE\n",
    "\n",
    "\n",
    "Zero-noise extrapolation (ZNE) is a noise mitigation technique. It works by intentionally scaling the noise of a quantum circuit to then extrapolate the zero-noise limit of an observable of interest. In this task, you will build a simple ZNE function from scratch:\n",
    "\n",
    "1) Build a simple noise model with depolarizing noise \n",
    "2) Create different circuits to test your noise models and choose the observable to measure \n",
    "3) Apply the unitary folding method. \n",
    "4) Apply the extrapolation method to get the zero-noise limit. Different extrapolation methods achieve different results, such as Linear, polynomial, and exponential.\n",
    "5) Compare mitigated and unmitigated results \n",
    "6) Bonus: Run your ZNE function in real quantum hardware through the IBM Quantum Service\n",
    "\n",
    "Check the Mitiq documentation for references. You are not allowed to use the functions from Mitiq or any other frameworks where ZNE is already implemented. "
   ]
  },
  {
   "cell_type": "markdown",
   "metadata": {},
   "source": [
    "## 1) Simple Noise Model with Depolarizing Noise\n",
    "A noise model simulates the effect of errors in quantum computations. \n",
    "\n",
    "Qiskit provides a noise model that includes depolarizing noise."
   ]
  },
  {
   "cell_type": "code",
   "execution_count": 2,
   "metadata": {},
   "outputs": [],
   "source": [
    "from qiskit_aer.noise import NoiseModel, depolarizing_error\n",
    "from qiskit.visualization import plot_histogram\n",
    "from qiskit_aer import AerSimulator\n",
    "from qiskit import transpile, assemble\n",
    "\n",
    "\n",
    "def build_noise_model(depolarizing_error_prob, num_qubits):\n",
    "    noise_model = NoiseModel()\n",
    "    depol_error = depolarizing_error(depolarizing_error_prob, num_qubits)\n",
    "    noise_model.add_all_qubit_quantum_error(depol_error, ['u1', 'u2', 'u3', 'cx'])\n",
    "    return noise_model"
   ]
  },
  {
   "cell_type": "markdown",
   "metadata": {},
   "source": [
    "Now one that works with more qubits than only one"
   ]
  },
  {
   "cell_type": "code",
   "execution_count": 3,
   "metadata": {},
   "outputs": [],
   "source": [
    "\n",
    "def build_noise_model(depolarizing_error_prob, num_qubits):\n",
    "    noise_model = NoiseModel()\n",
    "    \n",
    "    # Create depolarizing error models for 1-qubit and 2-qubit gates\n",
    "    depol_error_1q = depolarizing_error(depolarizing_error_prob, 1)\n",
    "    depol_error_2q = depolarizing_error(depolarizing_error_prob, 2)\n",
    "    \n",
    "    # Apply the single-qubit depolarizing error model to single-qubit gates\n",
    "    noise_model.add_all_qubit_quantum_error(depol_error_1q, ['u1', 'u2', 'u3'])\n",
    "    \n",
    "    # Apply the two-qubit depolarizing error model to two-qubit gates\n",
    "    noise_model.add_all_qubit_quantum_error(depol_error_2q, ['cx'])\n",
    "    \n",
    "    return noise_model\n"
   ]
  },
  {
   "cell_type": "markdown",
   "metadata": {},
   "source": [
    "## 2) Create Different Circuits and Choose an Observable\n",
    "Here is define a simple quantum circuit and choose an observable, like the expectation value of the Pauli-Z operator on a qubit."
   ]
  },
  {
   "cell_type": "code",
   "execution_count": 4,
   "metadata": {},
   "outputs": [],
   "source": [
    "from qiskit import QuantumCircuit, transpile\n",
    "from qiskit_aer import Aer\n",
    "from qiskit.quantum_info import Pauli, Statevector, Operator"
   ]
  },
  {
   "cell_type": "code",
   "execution_count": 5,
   "metadata": {},
   "outputs": [],
   "source": [
    "def create_circuit():\n",
    "    qc = QuantumCircuit(1)\n",
    "    qc.h(0)\n",
    "    return qc"
   ]
  },
  {
   "cell_type": "code",
   "execution_count": 6,
   "metadata": {},
   "outputs": [],
   "source": [
    "def fold_circuit(circuit, scale_factor):\n",
    "    folded_circuit = circuit.copy()\n",
    "    for _ in range(int(scale_factor) - 1):\n",
    "        for gate in reversed(circuit.data):\n",
    "            folded_circuit.append(gate[0].inverse(), gate[1])\n",
    "            folded_circuit.append(gate[0], gate[1])\n",
    "    return folded_circuit"
   ]
  },
  {
   "cell_type": "markdown",
   "metadata": {},
   "source": [
    "### 4) Apply the Extrapolation Method\n",
    "Here run circuits with different noise scale factors and then extrapolate to zero noise. Here is a simple linear extrapolation as an example."
   ]
  },
  {
   "cell_type": "code",
   "execution_count": 7,
   "metadata": {},
   "outputs": [],
   "source": [
    "import numpy as np\n",
    "\n",
    "def linear_extrapolation(data_points, scale_factors):\n",
    "    # Assuming data_points = [observable(scale_factor_1), observable(scale_factor_2), ...]\n",
    "    # and scale_factors = [scale_factor_1, scale_factor_2, ...]\n",
    "    coeffs = np.polyfit(scale_factors, data_points, 1)\n",
    "    return coeffs[-1]  # Zero-noise limit is the intercept of the linear fit\n"
   ]
  },
  {
   "cell_type": "markdown",
   "metadata": {},
   "source": [
    "## 5) Compare Mitigated and Unmitigated Results\n",
    "\n",
    "Let compare the results obtained from a quantum circuit when it's run without noise (unmitigated), with noise (mitigated using ZNE), and then extrapolating to estimate the zero-noise limit.\n"
   ]
  },
  {
   "cell_type": "markdown",
   "metadata": {},
   "source": [
    "### * First, measure the observable in the circuit without applying any noise model"
   ]
  },
  {
   "cell_type": "code",
   "execution_count": 8,
   "metadata": {},
   "outputs": [
    {
     "data": {
      "text/html": [
       "<pre style=\"word-wrap: normal;white-space: pre;background: #fff0;line-height: 1.1;font-family: &quot;Courier New&quot;,Courier,monospace\">   ┌───┐\n",
       "q: ┤ H ├\n",
       "   └───┘</pre>"
      ],
      "text/plain": [
       "   ┌───┐\n",
       "q: ┤ H ├\n",
       "   └───┘"
      ]
     },
     "execution_count": 8,
     "metadata": {},
     "output_type": "execute_result"
    }
   ],
   "source": [
    "# Assume the observable care about is the expectation value of the Z operator on the first qubit.\n",
    "observable = Operator(Pauli('Z'))\n",
    "circuit = create_circuit()\n",
    "circuit.draw()"
   ]
  },
  {
   "cell_type": "code",
   "execution_count": 9,
   "metadata": {},
   "outputs": [],
   "source": [
    "def measure_observable(circuit, observable, noise_model=None):\n",
    "    backend = Aer.get_backend('qasm_simulator')\n",
    "    circuit.save_statevector()\n",
    "    transpiled_circuit = transpile(circuit, backend)\n",
    "    job = backend.run(transpiled_circuit, noise_model=noise_model)\n",
    "    result = job.result()\n",
    "    state = Statevector(result.get_statevector(circuit))\n",
    "    expectation_value = state.expectation_value(observable)\n",
    "    return expectation_value.real"
   ]
  },
  {
   "cell_type": "code",
   "execution_count": 10,
   "metadata": {},
   "outputs": [],
   "source": [
    "# Measure without noise\n",
    "unmitigated_result = measure_observable(circuit, observable)"
   ]
  },
  {
   "cell_type": "markdown",
   "metadata": {},
   "source": [
    "*The measure_observable function runs the circuit on a simulator and calculates the expectation value of the observable.*"
   ]
  },
  {
   "cell_type": "code",
   "execution_count": 11,
   "metadata": {},
   "outputs": [
    {
     "data": {
      "text/html": [
       "<pre style=\"word-wrap: normal;white-space: pre;background: #fff0;line-height: 1.1;font-family: &quot;Courier New&quot;,Courier,monospace\">   ┌───┐ statevector \n",
       "q: ┤ H ├──────░──────\n",
       "   └───┘      ░      </pre>"
      ],
      "text/plain": [
       "   ┌───┐ statevector \n",
       "q: ┤ H ├──────░──────\n",
       "   └───┘      ░      "
      ]
     },
     "execution_count": 11,
     "metadata": {},
     "output_type": "execute_result"
    }
   ],
   "source": [
    "# Now the circuit is with statevector beacuse measure_observable circuit.save_statevector()\n",
    "circuit.draw()"
   ]
  },
  {
   "cell_type": "code",
   "execution_count": 12,
   "metadata": {},
   "outputs": [
    {
     "name": "stdout",
     "output_type": "stream",
     "text": [
      "2.220446049250313e-16\n"
     ]
    }
   ],
   "source": [
    "print(unmitigated_result)"
   ]
  },
  {
   "cell_type": "markdown",
   "metadata": {},
   "source": [
    "### * Now build the noise model"
   ]
  },
  {
   "cell_type": "code",
   "execution_count": 13,
   "metadata": {},
   "outputs": [],
   "source": [
    "def build_noise_model(depolarizing_error_prob, num_qubits):\n",
    "    noise_model = NoiseModel()\n",
    "    \n",
    "    # Create depolarizing error models for 1-qubit and 2-qubit gates\n",
    "    depol_error_1q = depolarizing_error(depolarizing_error_prob, 1)\n",
    "    depol_error_2q = depolarizing_error(depolarizing_error_prob, 2)\n",
    "    \n",
    "    # Apply the single-qubit depolarizing error model to single-qubit gates\n",
    "    noise_model.add_all_qubit_quantum_error(depol_error_1q, ['u1', 'u2', 'u3'])\n",
    "    \n",
    "    # Apply the two-qubit depolarizing error model to two-qubit gates\n",
    "    noise_model.add_all_qubit_quantum_error(depol_error_2q, ['cx'])\n",
    "    \n",
    "    return noise_model"
   ]
  },
  {
   "cell_type": "code",
   "execution_count": 14,
   "metadata": {},
   "outputs": [],
   "source": [
    "depolarizing_error_prob = 0.01  # For example, 1% error probability\n",
    "num_qubits = 5  # Assuming a 5-qubit circuit\n",
    "noise_model = build_noise_model(depolarizing_error_prob, num_qubits)"
   ]
  },
  {
   "cell_type": "code",
   "execution_count": 15,
   "metadata": {},
   "outputs": [
    {
     "name": "stdout",
     "output_type": "stream",
     "text": [
      "NoiseModel:\n",
      "  Basis gates: ['cx', 'id', 'rz', 'sx', 'u1', 'u2', 'u3']\n",
      "  Instructions with noise: ['u1', 'u2', 'cx', 'u3']\n",
      "  All-qubits errors: ['u1', 'u2', 'u3', 'cx']\n"
     ]
    }
   ],
   "source": [
    "print(noise_model)"
   ]
  },
  {
   "cell_type": "markdown",
   "metadata": {},
   "source": [
    "### * Create the circuit again and measure_observable"
   ]
  },
  {
   "cell_type": "code",
   "execution_count": 16,
   "metadata": {},
   "outputs": [
    {
     "data": {
      "text/html": [
       "<pre style=\"word-wrap: normal;white-space: pre;background: #fff0;line-height: 1.1;font-family: &quot;Courier New&quot;,Courier,monospace\">   ┌───┐\n",
       "q: ┤ H ├\n",
       "   └───┘</pre>"
      ],
      "text/plain": [
       "   ┌───┐\n",
       "q: ┤ H ├\n",
       "   └───┘"
      ]
     },
     "execution_count": 16,
     "metadata": {},
     "output_type": "execute_result"
    }
   ],
   "source": [
    "observable = Operator(Pauli('Z'))\n",
    "circuit = create_circuit()\n",
    "circuit.draw()"
   ]
  },
  {
   "cell_type": "code",
   "execution_count": 17,
   "metadata": {},
   "outputs": [],
   "source": [
    "def measure_observable(circuit, observable, noise_model=None):\n",
    "    backend = Aer.get_backend('qasm_simulator')\n",
    "    circuit.save_statevector()\n",
    "    transpiled_circuit = transpile(circuit, backend)\n",
    "    job = backend.run(transpiled_circuit, noise_model=noise_model)\n",
    "    result = job.result()\n",
    "    state = Statevector(result.get_statevector(circuit))\n",
    "    expectation_value = state.expectation_value(observable)\n",
    "    return expectation_value.real"
   ]
  },
  {
   "cell_type": "code",
   "execution_count": 18,
   "metadata": {},
   "outputs": [],
   "source": [
    "# Apply unitary folding to scale 2 up the noise\n",
    "folded_circuit = fold_circuit(circuit, 2)"
   ]
  },
  {
   "cell_type": "code",
   "execution_count": 19,
   "metadata": {},
   "outputs": [],
   "source": [
    "# Run the circuit with noise\n",
    "noisy_result = measure_observable(folded_circuit, observable, noise_model=noise_model)"
   ]
  },
  {
   "cell_type": "code",
   "execution_count": 20,
   "metadata": {},
   "outputs": [
    {
     "name": "stdout",
     "output_type": "stream",
     "text": [
      "2.220446049250313e-16\n"
     ]
    }
   ],
   "source": [
    "print(noisy_result)"
   ]
  },
  {
   "cell_type": "markdown",
   "metadata": {},
   "source": [
    "### * Apply Noise and Unitary Folding:\n",
    "let create several versions of the circuit with different levels of noise scaling by folding the unitaries, and measure the observable for each version."
   ]
  },
  {
   "cell_type": "code",
   "execution_count": 21,
   "metadata": {},
   "outputs": [],
   "source": [
    "# Apply unitary folding to scale up the noise\n",
    "scale_factors = [1, 2, 3]  # These are the noise scale factors; 1 is the original level of noise.\n",
    "results_with_noise = []\n",
    "\n",
    "for scale in scale_factors:\n",
    "    # Create the circuit\n",
    "    circuit = create_circuit()\n",
    "    \n",
    "    # Fold the circuit to increase the noise\n",
    "    folded_circuit = fold_circuit(circuit, scale)\n",
    "    \n",
    "    # Measure the observable with the noise model\n",
    "    result = measure_observable(folded_circuit, observable, noise_model)\n",
    "    results_with_noise.append(result)"
   ]
  },
  {
   "cell_type": "markdown",
   "metadata": {},
   "source": [
    "Each folded circuit is run with the noise model applied. The unitary folding simulates an increase in the noise by duplicating the gates. This does not change the ideal outcome of the circuit but increases the effect of noise."
   ]
  },
  {
   "cell_type": "code",
   "execution_count": 22,
   "metadata": {},
   "outputs": [
    {
     "name": "stdout",
     "output_type": "stream",
     "text": [
      "[2.220446049250313e-16, 2.220446049250313e-16, 2.220446049250313e-16]\n"
     ]
    }
   ],
   "source": [
    "print(results_with_noise)"
   ]
  },
  {
   "cell_type": "markdown",
   "metadata": {},
   "source": [
    "### *Extrapolate to Zero Noise:\n",
    "Now use the results obtained from the noisy circuits to extrapolate to the zero-noise limit. If the noise scales linearly,  can be use a linear fit."
   ]
  },
  {
   "cell_type": "code",
   "execution_count": 23,
   "metadata": {},
   "outputs": [],
   "source": [
    "# Extrapolate to estimate the zero-noise limit\n",
    "zne_limit = linear_extrapolation(results_with_noise, scale_factors)"
   ]
  },
  {
   "cell_type": "markdown",
   "metadata": {},
   "source": [
    "The linear_extrapolation function takes the measured results at different noise scales and performs a linear regression to find the y-intercept, which corresponds to the estimated zero-noise limit."
   ]
  },
  {
   "cell_type": "markdown",
   "metadata": {},
   "source": [
    "## Compare Results:\n",
    "Finally, let compare the original measurement (without noise), the measurements with noise (at different scales), and the extrapolated zero-noise result."
   ]
  },
  {
   "cell_type": "code",
   "execution_count": 24,
   "metadata": {},
   "outputs": [
    {
     "name": "stdout",
     "output_type": "stream",
     "text": [
      "Unmitigated Result: 2.220446049250313e-16\n",
      "Mitigated Results: [2.220446049250313e-16, 2.220446049250313e-16, 2.220446049250313e-16]\n",
      "ZNE Extrapolated Result (Zero-Noise Limit): 2.2204460492503123e-16\n"
     ]
    }
   ],
   "source": [
    "print(f\"Unmitigated Result: {unmitigated_result}\")\n",
    "print(f\"Mitigated Results: {results_with_noise}\")\n",
    "print(f\"ZNE Extrapolated Result (Zero-Noise Limit): {zne_limit}\")"
   ]
  },
  {
   "cell_type": "markdown",
   "metadata": {},
   "source": [
    "### *Interpreting the Result*\n",
    "The results you're seeing indicate that all the measured values, both mitigated and unmitigated, are extremely close to zero, and they are all essentially the same up to numerical precision limitations (on the order of $10^{−16}$ , which is effectively numerical noise in floating-point computations). \n",
    "\n",
    "So something is happening, and is easy to recognize. The problem are the observable and circuit using!\n",
    "\n",
    "* The Observable: here is using the Pauli-Z observable, which measures the expectation value along the Z-axis of the Bloch sphere.\n",
    "\n",
    "* The Circuit: created applies a Hadamard gate to the qubit, putting it into an equal superposition of |0⟩ and |1⟩ states (if we start from |0⟩). The state after the Hadamard gate is $\\frac{∣0⟩+∣1⟩}{\\sqrt{2}}$, which in the Z-basis is a superposition with equal probabilities for 0 and 1.\n",
    "\n",
    "When is measure the expectation value of the Z operator on this state, it should theoretically get 0 because the probabilities of measuring |0⟩ (which corresponds to an eigenvalue of +1 for the Z operator) and |1⟩ (which corresponds to an eigenvalue of -1 for the Z operator) are equal, and their contributions to the expectation value cancel each other out:\n",
    "$<Z>=\\frac{1}{2}(+1)+\\frac{1}{2}(−1)=0$\n",
    "\n",
    "So...\n",
    "* Expectation Value Close to Zero: As the ideal expectation value of the Z observable for your circuit is 0, it's reasonable that the unmitigated result is very close to zero.\n",
    "\n",
    "* Zero-Noise Extrapolation (ZNE): Since the ideal expectation value is 0, and given that ZNE is a mitigation technique to approximate the ideal (noise-free) expectation value, it's expected that both the mitigated and unmitigated results would be close to zero. The unitary folding and extrapolation would not change this value much, if at all, since there's no noise to mitigate in the ideal case.\n",
    "\n",
    "Therefore, the results getting are consistent with what one would expect given this observable and circuit. The fact that all results (unmitigated, mitigated, and extrapolated) are the same and close to zero is an indication that your ZNE process is likely working correctly, but the observable and state you've chosen are not affected by noise in the first place."
   ]
  },
  {
   "cell_type": "markdown",
   "metadata": {},
   "source": [
    "To see a more noticeable effect of noise and the impact of ZNE, one would need to choose a state that does not have an expectation value of zero for the Z observable or an observable that does not have an expectation value of zero for your state. For example, prepare the qubit in the |1⟩ state (using an X gate) and then measure the expectation value of the Z observable. In this case, should get an expectation value of -1, and any noise that affects the state should shift this value towards zero. ZNE would then be used to try to correct for this noise."
   ]
  },
  {
   "cell_type": "markdown",
   "metadata": {},
   "source": [
    "# Changing Circuit "
   ]
  },
  {
   "cell_type": "code",
   "execution_count": 30,
   "metadata": {},
   "outputs": [],
   "source": [
    "# Create your circuit (whit CX)\n",
    "circuit = QuantumCircuit(2)\n",
    "circuit.h(0)\n",
    "circuit.cx(0, 1)\n",
    "circuit.measure_all()"
   ]
  },
  {
   "cell_type": "code",
   "execution_count": 31,
   "metadata": {},
   "outputs": [
    {
     "ename": "CircuitError",
     "evalue": "'inverse() not implemented for measure.'",
     "output_type": "error",
     "traceback": [
      "\u001b[0;31m---------------------------------------------------------------------------\u001b[0m",
      "\u001b[0;31mCircuitError\u001b[0m                              Traceback (most recent call last)",
      "Cell \u001b[0;32mIn[31], line 11\u001b[0m\n\u001b[1;32m      8\u001b[0m circuit\u001b[38;5;241m.\u001b[39mmeasure_all()\n\u001b[1;32m     10\u001b[0m \u001b[38;5;66;03m# Fold the circuit to increase the noise\u001b[39;00m\n\u001b[0;32m---> 11\u001b[0m folded_circuit \u001b[38;5;241m=\u001b[39m \u001b[43mfold_circuit\u001b[49m\u001b[43m(\u001b[49m\u001b[43mcircuit\u001b[49m\u001b[43m,\u001b[49m\u001b[43m \u001b[49m\u001b[43mscale\u001b[49m\u001b[43m)\u001b[49m\n\u001b[1;32m     13\u001b[0m \u001b[38;5;66;03m# Measure the observable with the noise model\u001b[39;00m\n\u001b[1;32m     14\u001b[0m result \u001b[38;5;241m=\u001b[39m measure_observable(folded_circuit, observable, noise_model)\n",
      "Cell \u001b[0;32mIn[6], line 5\u001b[0m, in \u001b[0;36mfold_circuit\u001b[0;34m(circuit, scale_factor)\u001b[0m\n\u001b[1;32m      3\u001b[0m \u001b[38;5;28;01mfor\u001b[39;00m _ \u001b[38;5;129;01min\u001b[39;00m \u001b[38;5;28mrange\u001b[39m(\u001b[38;5;28mint\u001b[39m(scale_factor) \u001b[38;5;241m-\u001b[39m \u001b[38;5;241m1\u001b[39m):\n\u001b[1;32m      4\u001b[0m     \u001b[38;5;28;01mfor\u001b[39;00m gate \u001b[38;5;129;01min\u001b[39;00m \u001b[38;5;28mreversed\u001b[39m(circuit\u001b[38;5;241m.\u001b[39mdata):\n\u001b[0;32m----> 5\u001b[0m         folded_circuit\u001b[38;5;241m.\u001b[39mappend(\u001b[43mgate\u001b[49m\u001b[43m[\u001b[49m\u001b[38;5;241;43m0\u001b[39;49m\u001b[43m]\u001b[49m\u001b[38;5;241;43m.\u001b[39;49m\u001b[43minverse\u001b[49m\u001b[43m(\u001b[49m\u001b[43m)\u001b[49m, gate[\u001b[38;5;241m1\u001b[39m])\n\u001b[1;32m      6\u001b[0m         folded_circuit\u001b[38;5;241m.\u001b[39mappend(gate[\u001b[38;5;241m0\u001b[39m], gate[\u001b[38;5;241m1\u001b[39m])\n\u001b[1;32m      7\u001b[0m \u001b[38;5;28;01mreturn\u001b[39;00m folded_circuit\n",
      "File \u001b[0;32m~/Desktop/QOSF mentorship/QOSFMentorship-JosefinaCresta-Cohort9ScreeningTasks/env/lib/python3.11/site-packages/qiskit/circuit/instruction.py:453\u001b[0m, in \u001b[0;36mInstruction.inverse\u001b[0;34m(self, annotated)\u001b[0m\n\u001b[1;32m    450\u001b[0m     \u001b[38;5;28;01mreturn\u001b[39;00m AnnotatedOperation(\u001b[38;5;28mself\u001b[39m, InverseModifier())\n\u001b[1;32m    452\u001b[0m \u001b[38;5;28;01mif\u001b[39;00m \u001b[38;5;28mself\u001b[39m\u001b[38;5;241m.\u001b[39mdefinition \u001b[38;5;129;01mis\u001b[39;00m \u001b[38;5;28;01mNone\u001b[39;00m:\n\u001b[0;32m--> 453\u001b[0m     \u001b[38;5;28;01mraise\u001b[39;00m CircuitError(\u001b[38;5;124m\"\u001b[39m\u001b[38;5;124minverse() not implemented for \u001b[39m\u001b[38;5;132;01m%s\u001b[39;00m\u001b[38;5;124m.\u001b[39m\u001b[38;5;124m\"\u001b[39m \u001b[38;5;241m%\u001b[39m \u001b[38;5;28mself\u001b[39m\u001b[38;5;241m.\u001b[39mname)\n\u001b[1;32m    455\u001b[0m \u001b[38;5;28;01mfrom\u001b[39;00m \u001b[38;5;21;01mqiskit\u001b[39;00m\u001b[38;5;21;01m.\u001b[39;00m\u001b[38;5;21;01mcircuit\u001b[39;00m \u001b[38;5;28;01mimport\u001b[39;00m Gate  \u001b[38;5;66;03m# pylint: disable=cyclic-import\u001b[39;00m\n\u001b[1;32m    457\u001b[0m \u001b[38;5;28;01mif\u001b[39;00m \u001b[38;5;28mself\u001b[39m\u001b[38;5;241m.\u001b[39mname\u001b[38;5;241m.\u001b[39mendswith(\u001b[38;5;124m\"\u001b[39m\u001b[38;5;124m_dg\u001b[39m\u001b[38;5;124m\"\u001b[39m):\n",
      "\u001b[0;31mCircuitError\u001b[0m: 'inverse() not implemented for measure.'"
     ]
    }
   ],
   "source": [
    "# Apply unitary folding to scale up the noise\n",
    "scale_factors = [0, 1, 2, 3]  # These are the noise scale factors; 1 is the original level of noise.\n",
    "results_with_noise = []\n",
    "\n",
    "for scale in scale_factors:\n",
    "    # Create the circuit\n",
    "    circuit = create_circuit()\n",
    "    circuit.measure_all()\n",
    "    \n",
    "    # Fold the circuit to increase the noise\n",
    "    folded_circuit = fold_circuit(circuit, scale)\n",
    "    \n",
    "    # Measure the observable with the noise model\n",
    "    result = measure_observable(folded_circuit, observable, noise_model)\n",
    "    results_with_noise.append(result)"
   ]
  },
  {
   "cell_type": "code",
   "execution_count": 27,
   "metadata": {},
   "outputs": [],
   "source": [
    "# Extrapolate to estimate the zero-noise limit\n",
    "zne_limit = linear_extrapolation(results_with_noise, scale_factors)"
   ]
  },
  {
   "cell_type": "code",
   "execution_count": 28,
   "metadata": {},
   "outputs": [
    {
     "name": "stdout",
     "output_type": "stream",
     "text": [
      "Unmitigated Result: 2.220446049250313e-16\n",
      "Mitigated Results: [2.220446049250313e-16, 2.220446049250313e-16, 2.220446049250313e-16, 2.220446049250313e-16]\n",
      "ZNE Extrapolated Result (Zero-Noise Limit): 2.220446049250314e-16\n"
     ]
    }
   ],
   "source": [
    "print(f\"Unmitigated Result: {unmitigated_result}\")\n",
    "print(f\"Mitigated Results: {results_with_noise}\")\n",
    "print(f\"ZNE Extrapolated Result (Zero-Noise Limit): {zne_limit}\")"
   ]
  },
  {
   "cell_type": "markdown",
   "metadata": {},
   "source": [
    "---"
   ]
  },
  {
   "cell_type": "code",
   "execution_count": 35,
   "metadata": {},
   "outputs": [
    {
     "name": "stderr",
     "output_type": "stream",
     "text": [
      "/var/folders/rh/r7s1vfq50cj305_qp12kpvk00000gn/T/ipykernel_21631/207081493.py:20: DeprecationWarning: Using a qobj for run() is deprecated as of qiskit-aer 0.9.0 and will be removed no sooner than 3 months from that release date. Transpiled circuits should now be passed directly using `backend.run(circuits, **run_options).\n",
      "  job = backend.run(qobj)\n"
     ]
    }
   ],
   "source": [
    "from qiskit_aer import AerSimulator\n",
    "from qiskit import transpile, assemble\n",
    "\n",
    "# Create your circuit (example)\n",
    "circuit = QuantumCircuit(2)\n",
    "circuit.h(0)\n",
    "circuit.cx(0, 1)\n",
    "circuit.measure_all()\n",
    "\n",
    "# Define your backend (with noise model if required)\n",
    "backend = AerSimulator(noise_model=noise_model)  # Assuming 'my_noise_model' is defined\n",
    "\n",
    "# Transpile the circuit for the backend\n",
    "transpiled_circuit = transpile(circuit, backend)\n",
    "\n",
    "# Assemble the transpiled circuit into a Qobj\n",
    "qobj = assemble(transpiled_circuit, backend, shots=1024)\n",
    "\n",
    "# Run the Qobj on the backend\n",
    "job = backend.run(qobj)\n",
    "\n",
    "# Wait for the job to complete and fetch the results\n",
    "result = job.result()\n",
    "\n",
    "# Extract the counts\n",
    "counts = result.get_counts(circuit)\n"
   ]
  },
  {
   "cell_type": "code",
   "execution_count": 40,
   "metadata": {},
   "outputs": [
    {
     "data": {
      "text/html": [
       "<pre style=\"word-wrap: normal;white-space: pre;background: #fff0;line-height: 1.1;font-family: &quot;Courier New&quot;,Courier,monospace\">        ┌─────────┐      ░ ┌─┐   \n",
       "   q_0: ┤ U2(0,π) ├──■───░─┤M├───\n",
       "        └─────────┘┌─┴─┐ ░ └╥┘┌─┐\n",
       "   q_1: ───────────┤ X ├─░──╫─┤M├\n",
       "                   └───┘ ░  ║ └╥┘\n",
       "meas: 2/════════════════════╩══╩═\n",
       "                            0  1 </pre>"
      ],
      "text/plain": [
       "        ┌─────────┐      ░ ┌─┐   \n",
       "   q_0: ┤ U2(0,π) ├──■───░─┤M├───\n",
       "        └─────────┘┌─┴─┐ ░ └╥┘┌─┐\n",
       "   q_1: ───────────┤ X ├─░──╫─┤M├\n",
       "                   └───┘ ░  ║ └╥┘\n",
       "meas: 2/════════════════════╩══╩═\n",
       "                            0  1 "
      ]
     },
     "execution_count": 40,
     "metadata": {},
     "output_type": "execute_result"
    }
   ],
   "source": [
    "transpiled_circuit.draw()"
   ]
  },
  {
   "cell_type": "code",
   "execution_count": 38,
   "metadata": {},
   "outputs": [
    {
     "name": "stdout",
     "output_type": "stream",
     "text": [
      "{'01': 4, '10': 2, '00': 495, '11': 523}\n"
     ]
    },
    {
     "data": {
      "image/png": "[encoded data removed]",
      "text/plain": [
       "<Figure size 700x500 with 1 Axes>"
      ]
     },
     "execution_count": 38,
     "metadata": {},
     "output_type": "execute_result"
    }
   ],
   "source": [
    "# Display the results\n",
    "print(counts)\n",
    "plot_histogram(counts)"
   ]
  },
  {
   "cell_type": "markdown",
   "metadata": {},
   "source": [
    "Count Distribution: The result shows the counts for the measurement outcomes of a two-qubit quantum circuit:\n",
    "\n",
    "00: 495 occurrences\n",
    "01: 4 occurrences\n",
    "10: 2 occurrences\n",
    "11: 523 occurrences\n",
    "Interpretation:\n",
    "\n",
    "The most frequent outcomes are 00 and 11. These outcomes dominate the measurements, which could indicate a specific state preparation or a particular algorithm that leads to these states being more likely.\n",
    "The states 01 and 10 have significantly fewer occurrences, which suggests that they are not the primary target states of the quantum operation(s) that were applied in the circuit.\n",
    "Potential Contexts:\n",
    "\n",
    "If this circuit is part of an algorithm like Grover's search, and 00 and 11 were the target states, this result could indicate a successful amplification of the probability amplitudes for these states.\n",
    "If the circuit is meant to create a uniform superposition of states (like applying Hadamard gates to both qubits), this distribution suggests significant bias or noise in the system, or possibly an error in state preparation or measurement.\n",
    "Considering Noise:\n",
    "\n",
    "If noise were introduced (e.g., via a noise model in a simulator), it would typically lead to a more uniform distribution of counts across all possible states due to the randomizing effect of noise. However, the dominance of 00 and 11 suggests that noise is either not present, not significant, or has a non-uniform effect.\n",
    "If the circuit is error-corrected or noise-mitigated (such as through ZNE), the results might indicate that the mitigation was partially successful, preserving the fidelity of certain states over others.\n",
    "Technical Notes:\n",
    "\n",
    "The number of shots (or trials) for the simulation/experiment appears to be at least 1024 to accumulate this number of counts (assuming a standard number of shots).\n",
    "The output indicates a high-fidelity execution of the quantum circuit, assuming 00 and 11 were indeed the expected outcomes.\n",
    "In summary, the results suggest that the quantum circuit is producing two primary outcomes with high probability, which may be consistent with the intended design of the circuit or may point to issues to investigate, depending on the circuit's purpose and the context of the experiment.\n",
    "\n",
    "---"
   ]
  }
 ],
 "metadata": {
  "kernelspec": {
   "display_name": "env",
   "language": "python",
   "name": "python3"
  },
  "language_info": {
   "codemirror_mode": {
    "name": "ipython",
    "version": 3
   },
   "file_extension": ".py",
   "mimetype": "text/x-python",
   "name": "python",
   "nbconvert_exporter": "python",
   "pygments_lexer": "ipython3",
   "version": "3.11.2"
  }
 },
 "nbformat": 4,
 "nbformat_minor": 2
}
