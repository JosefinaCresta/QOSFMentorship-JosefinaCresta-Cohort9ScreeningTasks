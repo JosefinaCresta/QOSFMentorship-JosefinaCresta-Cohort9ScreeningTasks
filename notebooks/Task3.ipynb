{
 "cells": [
  {
   "cell_type": "markdown",
   "metadata": {},
   "source": [
    "# Task 3 ZNE\n",
    "\n",
    "\n",
    "Zero-noise extrapolation (ZNE) is a noise mitigation technique. It works by intentionally scaling the noise of a quantum circuit to then extrapolate the zero-noise limit of an observable of interest. In this task, you will build a simple ZNE function from scratch:\n",
    "\n",
    "1) Build a simple noise model with depolarizing noise \n",
    "2) Create different circuits to test your noise models and choose the observable to measure \n",
    "3) Apply the unitary folding method. \n",
    "4) Apply the extrapolation method to get the zero-noise limit. Different extrapolation methods achieve different results, such as Linear, polynomial, and exponential.\n",
    "5) Compare mitigated and unmitigated results \n",
    "6) Bonus: Run your ZNE function in real quantum hardware through the IBM Quantum Service\n",
    "\n",
    "Check the Mitiq documentation for references. You are not allowed to use the functions from Mitiq or any other frameworks where ZNE is already implemented. "
   ]
  },
  {
   "cell_type": "markdown",
   "metadata": {},
   "source": [
    "# 1) Simple Noise Model with Depolarizing Noise\n",
    "A noise model simulates the effect of errors in quantum computations. \n",
    "\n",
    "Qiskit provides a noise model that includes depolarizing noise."
   ]
  },
  {
   "cell_type": "code",
   "execution_count": 1,
   "metadata": {},
   "outputs": [],
   "source": [
    "from qiskit_aer.noise import NoiseModel, depolarizing_error\n",
    "from qiskit.visualization import plot_histogram\n",
    "from qiskit_aer import AerSimulator\n",
    "from qiskit import transpile, assemble\n",
    "\n",
    "\n",
    "def build_noise_model(depolarizing_error_prob, num_qubits):\n",
    "    noise_model = NoiseModel() #  Initializes an empty noise model.\n",
    "    depol_error = depolarizing_error(depolarizing_error_prob, num_qubits)\n",
    "    noise_model.add_all_qubit_quantum_error(depol_error, ['u1', 'u2', 'u3', 'cx'])\n",
    "    return noise_model"
   ]
  },
  {
   "cell_type": "markdown",
   "metadata": {},
   "source": [
    "* The function that takes two parameters: `depolarizing_error_prob`, which is the probability of a depolarizing error occurring on each gate, and `num_qubits`, which is the number of qubits in the quantum circuit. \n",
    "* The `depolarizing_error` creates a depolarizing error object that affects all qubits with a given probability depolarizing_error_prob.\n",
    "* Finally `.add_all_qubit_quantum_error(depol_error, ['u1', 'u2', 'u3', 'cx'])`: Adds the depolarizing error to all qubits for the specified gates. The gates 'u1', 'u2', and 'u3' represent all single-qubit rotations, and 'cx' represents the CNOT gate, a common two-qubit gate.\n",
    "* The function returns the constructed noise model, which can be used in a simulation to model the effects of noise on a quantum circuit.\n",
    "\n",
    "Example of aplication:\n",
    "```\n",
    "noise_model = build_noise_model(error_prob, num_qubits)\n",
    "circuit = create_circuit()\n",
    "transpiled_circuit = transpile(circuit, basis_gates=noise_model.basis_gates)\n",
    "simulator = AerSimulator(noise_model=my_noise_model)\n",
    "```\n",
    "\n"
   ]
  },
  {
   "cell_type": "markdown",
   "metadata": {},
   "source": [
    "# 2) Create Different Circuits and Choose an Observable\n",
    "\n",
    "To test the noise models, let create a variety of quantum circuits that are sensitive to different types of noise and then choose an observable that will help measure the impact of that noise. "
   ]
  },
  {
   "cell_type": "markdown",
   "metadata": {},
   "source": [
    "a) **Simple single-qubit circuit**\n",
    "\n",
    "Applies a Hadamard gate to the first qubit and choose as observable the expectation value of the Pauli-Z operator on a qubit."
   ]
  },
  {
   "cell_type": "code",
   "execution_count": 3,
   "metadata": {},
   "outputs": [],
   "source": [
    "from qiskit import QuantumCircuit, transpile\n",
    "from qiskit_aer import Aer\n",
    "from qiskit.quantum_info import Pauli, Statevector, Operator"
   ]
  },
  {
   "cell_type": "code",
   "execution_count": 1,
   "metadata": {},
   "outputs": [],
   "source": [
    "def create_circuit():\n",
    "    qc = QuantumCircuit(1)\n",
    "    qc.h(0)\n",
    "    return qc"
   ]
  },
  {
   "cell_type": "code",
   "execution_count": 11,
   "metadata": {},
   "outputs": [
    {
     "data": {
      "text/html": [
       "<pre style=\"word-wrap: normal;white-space: pre;background: #fff0;line-height: 1.1;font-family: &quot;Courier New&quot;,Courier,monospace\">   ┌───┐\n",
       "q: ┤ H ├\n",
       "   └───┘</pre>"
      ],
      "text/plain": [
       "   ┌───┐\n",
       "q: ┤ H ├\n",
       "   └───┘"
      ]
     },
     "execution_count": 11,
     "metadata": {},
     "output_type": "execute_result"
    }
   ],
   "source": [
    "simple_circuit = create_circuit()\n",
    "simple_circuit.draw()"
   ]
  },
  {
   "cell_type": "code",
   "execution_count": 5,
   "metadata": {},
   "outputs": [],
   "source": [
    "# Assume the observable care about is the expectation value of the Z operator on the first qubit.\n",
    "observable = Operator(Pauli('Z'))"
   ]
  },
  {
   "cell_type": "markdown",
   "metadata": {},
   "source": [
    "b) **Bell State Circuit:**\n",
    "\n",
    "Creating entangled states like Bell states is sensitive to errors because entanglement is a delicate property."
   ]
  },
  {
   "cell_type": "code",
   "execution_count": 6,
   "metadata": {},
   "outputs": [],
   "source": [
    "def bell_state_circuit():\n",
    "    qc = QuantumCircuit(2)\n",
    "    qc.h(0)\n",
    "    qc.cx(0, 1)\n",
    "    return qc"
   ]
  },
  {
   "cell_type": "code",
   "execution_count": 12,
   "metadata": {},
   "outputs": [
    {
     "data": {
      "text/html": [
       "<pre style=\"word-wrap: normal;white-space: pre;background: #fff0;line-height: 1.1;font-family: &quot;Courier New&quot;,Courier,monospace\">     ┌───┐     \n",
       "q_0: ┤ H ├──■──\n",
       "     └───┘┌─┴─┐\n",
       "q_1: ─────┤ X ├\n",
       "          └───┘</pre>"
      ],
      "text/plain": [
       "     ┌───┐     \n",
       "q_0: ┤ H ├──■──\n",
       "     └───┘┌─┴─┐\n",
       "q_1: ─────┤ X ├\n",
       "          └───┘"
      ]
     },
     "execution_count": 12,
     "metadata": {},
     "output_type": "execute_result"
    }
   ],
   "source": [
    "bell_circuit = bell_state_circuit()\n",
    "bell_circuit.draw()"
   ]
  },
  {
   "cell_type": "markdown",
   "metadata": {},
   "source": [
    "Here for the measure is interesting the parity of the two qubits in the Bell state, which can be measured using the ZZ operator."
   ]
  },
  {
   "cell_type": "code",
   "execution_count": 9,
   "metadata": {},
   "outputs": [],
   "source": [
    "observable_bell = Operator(Pauli('ZZ'))\n"
   ]
  },
  {
   "cell_type": "markdown",
   "metadata": {},
   "source": [
    "c) **GHZ State Circuit:**\n",
    "\n",
    "Larger entangled states amplify errors further, making the GHZ state a good test."
   ]
  },
  {
   "cell_type": "code",
   "execution_count": 7,
   "metadata": {},
   "outputs": [],
   "source": [
    "def ghz_state_circuit(num_qubits):\n",
    "    qc = QuantumCircuit(num_qubits)\n",
    "    qc.h(0)\n",
    "    for qubit in range(num_qubits - 1):\n",
    "        qc.cx(qubit, qubit + 1)\n",
    "    return qc"
   ]
  },
  {
   "cell_type": "code",
   "execution_count": 15,
   "metadata": {},
   "outputs": [
    {
     "data": {
      "text/html": [
       "<pre style=\"word-wrap: normal;white-space: pre;background: #fff0;line-height: 1.1;font-family: &quot;Courier New&quot;,Courier,monospace\">     ┌───┐          \n",
       "q_0: ┤ H ├──■───────\n",
       "     └───┘┌─┴─┐     \n",
       "q_1: ─────┤ X ├──■──\n",
       "          └───┘┌─┴─┐\n",
       "q_2: ──────────┤ X ├\n",
       "               └───┘</pre>"
      ],
      "text/plain": [
       "     ┌───┐          \n",
       "q_0: ┤ H ├──■───────\n",
       "     └───┘┌─┴─┐     \n",
       "q_1: ─────┤ X ├──■──\n",
       "          └───┘┌─┴─┐\n",
       "q_2: ──────────┤ X ├\n",
       "               └───┘"
      ]
     },
     "execution_count": 15,
     "metadata": {},
     "output_type": "execute_result"
    }
   ],
   "source": [
    "num_qubits = 3\n",
    "ghz_3_qubit_circuit = ghz_state_circuit(num_qubits)\n",
    "ghz_3_qubit_circuit.draw()"
   ]
  },
  {
   "cell_type": "markdown",
   "metadata": {},
   "source": [
    "For GHZ State, it might measure the parity of all qubits, using an observable like ZZZ...Z (one Z for each qubit)."
   ]
  },
  {
   "cell_type": "code",
   "execution_count": 16,
   "metadata": {},
   "outputs": [],
   "source": [
    "observable_ghz = Operator(Pauli('Z' * num_qubits))"
   ]
  },
  {
   "cell_type": "markdown",
   "metadata": {},
   "source": [
    "# 3) Apply the unitary folding method. \n",
    "Unitary folding is a technique used in the context of quantum error mitigation, specifically as part of the zero-noise extrapolation (ZNE) method. The idea behind unitary folding is to artificially increase the noise in a quantum circuit to observe its behavior under different noise levels and then extrapolate the results to estimate what they would be with no noise. The process involves \"folding\" parts of the circuit back on themselves, effectively doubling the noise on those operations without changing the ideal outcome of the circuit.\n",
    "\n",
    "*How to Apply Unitary Folding*\n",
    "Unitary folding involves selecting parts of the quantum circuit and then appending their inverses, effectively canceling them out in the ideal, noise-free case but doubling the noise they introduce. Here's a general approach to applying unitary folding:\n",
    "\n",
    "* **Identify the Folding Point:** Decide which part of the circuit you want to fold. This could be the entire circuit or specific gates within it.\n",
    "\n",
    "* **Fold the Circuit:** For each gate (or the entire set of gates) you want to fold, append the inverse of those gates in reverse order immediately after them.\n",
    "\n",
    "* **Scale Factor:** The amount of folding applied can be controlled by a scale factor. A scale factor of 1 means no folding, 2 means folding the entire circuit once (effectively doubling its depth), and so on."
   ]
  },
  {
   "cell_type": "markdown",
   "metadata": {},
   "source": [
    "Let's consider a simple function to fold a circuit, focusing on folding the entire circuit for simplicity."
   ]
  },
  {
   "cell_type": "code",
   "execution_count": 17,
   "metadata": {},
   "outputs": [],
   "source": [
    "def fold_circuit(circuit, scale_factor):\n",
    "    \"\"\"\n",
    "    Folds a circuit by a given scale factor. Scale factor <= 1 means no folding.\n",
    "    Only supports whole-circuit folding for simplicity.\n",
    "\n",
    "    Parameters:\n",
    "    circuit (QuantumCircuit): The original quantum circuit.\n",
    "    scale_factor (float): The factor by which to scale the noise, should be >= 1.\n",
    "\n",
    "    Returns:\n",
    "    QuantumCircuit: The folded quantum circuit.\n",
    "    \"\"\"\n",
    "    if scale_factor <= 1:\n",
    "        return circuit  # No folding needed for scale factor of 1 or less\n",
    "    \n",
    "    # Calculate the number of folds needed, rounded down\n",
    "    num_folds = int(scale_factor - 1)\n",
    "    \n",
    "    folded_circuit = circuit.copy()\n",
    "    \n",
    "    # Fold the circuit the required number of times\n",
    "    for _ in range(num_folds):\n",
    "        # Iterate over the circuit in reverse order and append the inverse\n",
    "        for gate in reversed(circuit.data):\n",
    "            # Get the gate name and qubits it acts on\n",
    "            gate_name = gate[0].name\n",
    "            qubits = gate[1]\n",
    "            # Append the inverse gate\n",
    "            folded_circuit.append(gate[0].inverse(), qubits)\n",
    "            # Append the original gate again to \"cancel out\" in an ideal, noise-free scenario\n",
    "            folded_circuit.append(gate[0], qubits)\n",
    "            \n",
    "    return folded_circuit\n"
   ]
  },
  {
   "cell_type": "markdown",
   "metadata": {},
   "source": [
    "This function doubles the circuit's depth by folding it, effectively increasing the noise if run on a noisy backend or with a noise model. The approach shown here is simplistic and intended for illustration. More sophisticated folding techniques might selectively fold specific gates or parts of a circuit to better mimic the noise behavior of real quantum hardware.\n",
    "\n"
   ]
  },
  {
   "cell_type": "markdown",
   "metadata": {},
   "source": [
    "### Examples with the example circuits"
   ]
  },
  {
   "cell_type": "code",
   "execution_count": 18,
   "metadata": {},
   "outputs": [
    {
     "data": {
      "text/html": [
       "<pre style=\"word-wrap: normal;white-space: pre;background: #fff0;line-height: 1.1;font-family: &quot;Courier New&quot;,Courier,monospace\">   ┌───┐┌───┐┌───┐┌───┐┌───┐\n",
       "q: ┤ H ├┤ H ├┤ H ├┤ H ├┤ H ├\n",
       "   └───┘└───┘└───┘└───┘└───┘</pre>"
      ],
      "text/plain": [
       "   ┌───┐┌───┐┌───┐┌───┐┌───┐\n",
       "q: ┤ H ├┤ H ├┤ H ├┤ H ├┤ H ├\n",
       "   └───┘└───┘└───┘└───┘└───┘"
      ]
     },
     "execution_count": 18,
     "metadata": {},
     "output_type": "execute_result"
    }
   ],
   "source": [
    "# Example: Apply folding with a scale factor of 3\n",
    "folded_simple_circuit = fold_circuit(simple_circuit, 3)\n",
    "folded_simple_circuit.draw()"
   ]
  },
  {
   "cell_type": "code",
   "execution_count": 20,
   "metadata": {},
   "outputs": [
    {
     "data": {
      "text/html": [
       "<pre style=\"word-wrap: normal;white-space: pre;background: #fff0;line-height: 1.1;font-family: &quot;Courier New&quot;,Courier,monospace\">     ┌───┐               ┌───┐┌───┐\n",
       "q_0: ┤ H ├──■────■────■──┤ H ├┤ H ├\n",
       "     └───┘┌─┴─┐┌─┴─┐┌─┴─┐└───┘└───┘\n",
       "q_1: ─────┤ X ├┤ X ├┤ X ├──────────\n",
       "          └───┘└───┘└───┘          </pre>"
      ],
      "text/plain": [
       "     ┌───┐               ┌───┐┌───┐\n",
       "q_0: ┤ H ├──■────■────■──┤ H ├┤ H ├\n",
       "     └───┘┌─┴─┐┌─┴─┐┌─┴─┐└───┘└───┘\n",
       "q_1: ─────┤ X ├┤ X ├┤ X ├──────────\n",
       "          └───┘└───┘└───┘          "
      ]
     },
     "execution_count": 20,
     "metadata": {},
     "output_type": "execute_result"
    }
   ],
   "source": [
    "folded_bell_circuit = fold_circuit(bell_circuit, 2)\n",
    "folded_bell_circuit.draw()"
   ]
  },
  {
   "cell_type": "code",
   "execution_count": 21,
   "metadata": {},
   "outputs": [
    {
     "data": {
      "text/html": [
       "<pre style=\"word-wrap: normal;white-space: pre;background: #fff0;line-height: 1.1;font-family: &quot;Courier New&quot;,Courier,monospace\">     ┌───┐               ┌───┐┌───┐          ┌───┐┌───┐\n",
       "q_0: ┤ H ├──■────■────■──┤ H ├┤ H ├──■────■──┤ H ├┤ H ├\n",
       "     └───┘┌─┴─┐┌─┴─┐┌─┴─┐└───┘└───┘┌─┴─┐┌─┴─┐└───┘└───┘\n",
       "q_1: ─────┤ X ├┤ X ├┤ X ├──────────┤ X ├┤ X ├──────────\n",
       "          └───┘└───┘└───┘          └───┘└───┘          </pre>"
      ],
      "text/plain": [
       "     ┌───┐               ┌───┐┌───┐          ┌───┐┌───┐\n",
       "q_0: ┤ H ├──■────■────■──┤ H ├┤ H ├──■────■──┤ H ├┤ H ├\n",
       "     └───┘┌─┴─┐┌─┴─┐┌─┴─┐└───┘└───┘┌─┴─┐┌─┴─┐└───┘└───┘\n",
       "q_1: ─────┤ X ├┤ X ├┤ X ├──────────┤ X ├┤ X ├──────────\n",
       "          └───┘└───┘└───┘          └───┘└───┘          "
      ]
     },
     "execution_count": 21,
     "metadata": {},
     "output_type": "execute_result"
    }
   ],
   "source": [
    "folded_factor_3_bell_circuit = fold_circuit(bell_circuit, 3)\n",
    "folded_factor_3_bell_circuit.draw()"
   ]
  },
  {
   "cell_type": "code",
   "execution_count": 22,
   "metadata": {},
   "outputs": [
    {
     "data": {
      "text/html": [
       "<pre style=\"word-wrap: normal;white-space: pre;background: #fff0;line-height: 1.1;font-family: &quot;Courier New&quot;,Courier,monospace\">     ┌───┐                              ┌───┐┌───┐\n",
       "q_0: ┤ H ├──■───────────────────■────■──┤ H ├┤ H ├\n",
       "     └───┘┌─┴─┐               ┌─┴─┐┌─┴─┐└───┘└───┘\n",
       "q_1: ─────┤ X ├──■────■────■──┤ X ├┤ X ├──────────\n",
       "          └───┘┌─┴─┐┌─┴─┐┌─┴─┐└───┘└───┘          \n",
       "q_2: ──────────┤ X ├┤ X ├┤ X ├────────────────────\n",
       "               └───┘└───┘└───┘                    </pre>"
      ],
      "text/plain": [
       "     ┌───┐                              ┌───┐┌───┐\n",
       "q_0: ┤ H ├──■───────────────────■────■──┤ H ├┤ H ├\n",
       "     └───┘┌─┴─┐               ┌─┴─┐┌─┴─┐└───┘└───┘\n",
       "q_1: ─────┤ X ├──■────■────■──┤ X ├┤ X ├──────────\n",
       "          └───┘┌─┴─┐┌─┴─┐┌─┴─┐└───┘└───┘          \n",
       "q_2: ──────────┤ X ├┤ X ├┤ X ├────────────────────\n",
       "               └───┘└───┘└───┘                    "
      ]
     },
     "execution_count": 22,
     "metadata": {},
     "output_type": "execute_result"
    }
   ],
   "source": [
    "fold_ghz_3_qubit_circuit = fold_circuit(ghz_3_qubit_circuit, 2)\n",
    "fold_ghz_3_qubit_circuit.draw()"
   ]
  },
  {
   "cell_type": "markdown",
   "metadata": {},
   "source": [
    "### Simulate both the original and the folded circuit with a noise model:"
   ]
  },
  {
   "cell_type": "code",
   "execution_count": 23,
   "metadata": {},
   "outputs": [
    {
     "ename": "NoiseError",
     "evalue": "'1 qubit QuantumError cannot be applied to 2 qubit instruction \"cx\".'",
     "output_type": "error",
     "traceback": [
      "\u001b[0;31m---------------------------------------------------------------------------\u001b[0m",
      "\u001b[0;31mNoiseError\u001b[0m                                Traceback (most recent call last)",
      "Cell \u001b[0;32mIn[23], line 3\u001b[0m\n\u001b[1;32m      1\u001b[0m \u001b[38;5;66;03m# Define a noise model\u001b[39;00m\n\u001b[1;32m      2\u001b[0m depolarizing_error_prob \u001b[38;5;241m=\u001b[39m \u001b[38;5;241m0.01\u001b[39m\n\u001b[0;32m----> 3\u001b[0m noise_model \u001b[38;5;241m=\u001b[39m \u001b[43mbuild_noise_model\u001b[49m\u001b[43m(\u001b[49m\u001b[43mdepolarizing_error_prob\u001b[49m\u001b[43m,\u001b[49m\u001b[43m \u001b[49m\u001b[38;5;241;43m1\u001b[39;49m\u001b[43m)\u001b[49m\n",
      "Cell \u001b[0;32mIn[1], line 10\u001b[0m, in \u001b[0;36mbuild_noise_model\u001b[0;34m(depolarizing_error_prob, num_qubits)\u001b[0m\n\u001b[1;32m      8\u001b[0m noise_model \u001b[38;5;241m=\u001b[39m NoiseModel() \u001b[38;5;66;03m#  Initializes an empty noise model.\u001b[39;00m\n\u001b[1;32m      9\u001b[0m depol_error \u001b[38;5;241m=\u001b[39m depolarizing_error(depolarizing_error_prob, num_qubits)\n\u001b[0;32m---> 10\u001b[0m \u001b[43mnoise_model\u001b[49m\u001b[38;5;241;43m.\u001b[39;49m\u001b[43madd_all_qubit_quantum_error\u001b[49m\u001b[43m(\u001b[49m\u001b[43mdepol_error\u001b[49m\u001b[43m,\u001b[49m\u001b[43m \u001b[49m\u001b[43m[\u001b[49m\u001b[38;5;124;43m'\u001b[39;49m\u001b[38;5;124;43mu1\u001b[39;49m\u001b[38;5;124;43m'\u001b[39;49m\u001b[43m,\u001b[49m\u001b[43m \u001b[49m\u001b[38;5;124;43m'\u001b[39;49m\u001b[38;5;124;43mu2\u001b[39;49m\u001b[38;5;124;43m'\u001b[39;49m\u001b[43m,\u001b[49m\u001b[43m \u001b[49m\u001b[38;5;124;43m'\u001b[39;49m\u001b[38;5;124;43mu3\u001b[39;49m\u001b[38;5;124;43m'\u001b[39;49m\u001b[43m,\u001b[49m\u001b[43m \u001b[49m\u001b[38;5;124;43m'\u001b[39;49m\u001b[38;5;124;43mcx\u001b[39;49m\u001b[38;5;124;43m'\u001b[39;49m\u001b[43m]\u001b[49m\u001b[43m)\u001b[49m\n\u001b[1;32m     11\u001b[0m \u001b[38;5;28;01mreturn\u001b[39;00m noise_model\n",
      "File \u001b[0;32m~/Desktop/QOSF mentorship/QOSFMentorship-JosefinaCresta-Cohort9ScreeningTasks/env/lib/python3.11/site-packages/qiskit_aer/noise/noise_model.py:690\u001b[0m, in \u001b[0;36mNoiseModel.add_all_qubit_quantum_error\u001b[0;34m(self, error, instructions, warnings)\u001b[0m\n\u001b[1;32m    688\u001b[0m \u001b[38;5;66;03m# Add instructions\u001b[39;00m\n\u001b[1;32m    689\u001b[0m \u001b[38;5;28;01mfor\u001b[39;00m name, label \u001b[38;5;129;01min\u001b[39;00m \u001b[38;5;28mself\u001b[39m\u001b[38;5;241m.\u001b[39m_instruction_names_labels(instructions):\n\u001b[0;32m--> 690\u001b[0m     \u001b[38;5;28;43mself\u001b[39;49m\u001b[38;5;241;43m.\u001b[39;49m\u001b[43m_check_number_of_qubits\u001b[49m\u001b[43m(\u001b[49m\u001b[43merror\u001b[49m\u001b[43m,\u001b[49m\u001b[43m \u001b[49m\u001b[43mname\u001b[49m\u001b[43m)\u001b[49m\n\u001b[1;32m    691\u001b[0m     \u001b[38;5;28;01mif\u001b[39;00m label \u001b[38;5;129;01min\u001b[39;00m \u001b[38;5;28mself\u001b[39m\u001b[38;5;241m.\u001b[39m_default_quantum_errors:\n\u001b[1;32m    692\u001b[0m         new_error \u001b[38;5;241m=\u001b[39m \u001b[38;5;28mself\u001b[39m\u001b[38;5;241m.\u001b[39m_default_quantum_errors[label]\u001b[38;5;241m.\u001b[39mcompose(error)\n",
      "File \u001b[0;32m~/Desktop/QOSF mentorship/QOSFMentorship-JosefinaCresta-Cohort9ScreeningTasks/env/lib/python3.11/site-packages/qiskit_aer/noise/noise_model.py:1099\u001b[0m, in \u001b[0;36mNoiseModel._check_number_of_qubits\u001b[0;34m(self, error, name)\u001b[0m\n\u001b[1;32m   1097\u001b[0m     \u001b[38;5;28;01mraise\u001b[39;00m NoiseError(error_message(\u001b[38;5;241m1\u001b[39m))\n\u001b[1;32m   1098\u001b[0m \u001b[38;5;28;01mif\u001b[39;00m name \u001b[38;5;129;01min\u001b[39;00m \u001b[38;5;28mself\u001b[39m\u001b[38;5;241m.\u001b[39m_2qubit_instructions \u001b[38;5;129;01mand\u001b[39;00m error\u001b[38;5;241m.\u001b[39mnum_qubits \u001b[38;5;241m!=\u001b[39m \u001b[38;5;241m2\u001b[39m:\n\u001b[0;32m-> 1099\u001b[0m     \u001b[38;5;28;01mraise\u001b[39;00m NoiseError(error_message(\u001b[38;5;241m2\u001b[39m))\n\u001b[1;32m   1100\u001b[0m \u001b[38;5;28;01mif\u001b[39;00m name \u001b[38;5;129;01min\u001b[39;00m \u001b[38;5;28mself\u001b[39m\u001b[38;5;241m.\u001b[39m_3qubit_instructions \u001b[38;5;129;01mand\u001b[39;00m error\u001b[38;5;241m.\u001b[39mnum_qubits \u001b[38;5;241m!=\u001b[39m \u001b[38;5;241m3\u001b[39m:\n\u001b[1;32m   1101\u001b[0m     \u001b[38;5;28;01mraise\u001b[39;00m NoiseError(error_message(\u001b[38;5;241m3\u001b[39m))\n",
      "\u001b[0;31mNoiseError\u001b[0m: '1 qubit QuantumError cannot be applied to 2 qubit instruction \"cx\".'"
     ]
    }
   ],
   "source": [
    "# Define a noise model\n",
    "depolarizing_error_prob = 0.01\n",
    "noise_model = build_noise_model(depolarizing_error_prob, 1)"
   ]
  },
  {
   "cell_type": "code",
   "execution_count": 25,
   "metadata": {},
   "outputs": [
    {
     "ename": "NoiseError",
     "evalue": "'2 qubit QuantumError cannot be applied to 1 qubit instruction \"u1\".'",
     "output_type": "error",
     "traceback": [
      "\u001b[0;31m---------------------------------------------------------------------------\u001b[0m",
      "\u001b[0;31mNoiseError\u001b[0m                                Traceback (most recent call last)",
      "Cell \u001b[0;32mIn[25], line 3\u001b[0m\n\u001b[1;32m      1\u001b[0m \u001b[38;5;66;03m# Define a noise model\u001b[39;00m\n\u001b[1;32m      2\u001b[0m depolarizing_error_prob \u001b[38;5;241m=\u001b[39m \u001b[38;5;241m0.01\u001b[39m\n\u001b[0;32m----> 3\u001b[0m noise_model \u001b[38;5;241m=\u001b[39m \u001b[43mbuild_noise_model\u001b[49m\u001b[43m(\u001b[49m\u001b[43mdepolarizing_error_prob\u001b[49m\u001b[43m,\u001b[49m\u001b[43m \u001b[49m\u001b[38;5;241;43m2\u001b[39;49m\u001b[43m)\u001b[49m\n",
      "Cell \u001b[0;32mIn[1], line 10\u001b[0m, in \u001b[0;36mbuild_noise_model\u001b[0;34m(depolarizing_error_prob, num_qubits)\u001b[0m\n\u001b[1;32m      8\u001b[0m noise_model \u001b[38;5;241m=\u001b[39m NoiseModel() \u001b[38;5;66;03m#  Initializes an empty noise model.\u001b[39;00m\n\u001b[1;32m      9\u001b[0m depol_error \u001b[38;5;241m=\u001b[39m depolarizing_error(depolarizing_error_prob, num_qubits)\n\u001b[0;32m---> 10\u001b[0m \u001b[43mnoise_model\u001b[49m\u001b[38;5;241;43m.\u001b[39;49m\u001b[43madd_all_qubit_quantum_error\u001b[49m\u001b[43m(\u001b[49m\u001b[43mdepol_error\u001b[49m\u001b[43m,\u001b[49m\u001b[43m \u001b[49m\u001b[43m[\u001b[49m\u001b[38;5;124;43m'\u001b[39;49m\u001b[38;5;124;43mu1\u001b[39;49m\u001b[38;5;124;43m'\u001b[39;49m\u001b[43m,\u001b[49m\u001b[43m \u001b[49m\u001b[38;5;124;43m'\u001b[39;49m\u001b[38;5;124;43mu2\u001b[39;49m\u001b[38;5;124;43m'\u001b[39;49m\u001b[43m,\u001b[49m\u001b[43m \u001b[49m\u001b[38;5;124;43m'\u001b[39;49m\u001b[38;5;124;43mu3\u001b[39;49m\u001b[38;5;124;43m'\u001b[39;49m\u001b[43m,\u001b[49m\u001b[43m \u001b[49m\u001b[38;5;124;43m'\u001b[39;49m\u001b[38;5;124;43mcx\u001b[39;49m\u001b[38;5;124;43m'\u001b[39;49m\u001b[43m]\u001b[49m\u001b[43m)\u001b[49m\n\u001b[1;32m     11\u001b[0m \u001b[38;5;28;01mreturn\u001b[39;00m noise_model\n",
      "File \u001b[0;32m~/Desktop/QOSF mentorship/QOSFMentorship-JosefinaCresta-Cohort9ScreeningTasks/env/lib/python3.11/site-packages/qiskit_aer/noise/noise_model.py:690\u001b[0m, in \u001b[0;36mNoiseModel.add_all_qubit_quantum_error\u001b[0;34m(self, error, instructions, warnings)\u001b[0m\n\u001b[1;32m    688\u001b[0m \u001b[38;5;66;03m# Add instructions\u001b[39;00m\n\u001b[1;32m    689\u001b[0m \u001b[38;5;28;01mfor\u001b[39;00m name, label \u001b[38;5;129;01min\u001b[39;00m \u001b[38;5;28mself\u001b[39m\u001b[38;5;241m.\u001b[39m_instruction_names_labels(instructions):\n\u001b[0;32m--> 690\u001b[0m     \u001b[38;5;28;43mself\u001b[39;49m\u001b[38;5;241;43m.\u001b[39;49m\u001b[43m_check_number_of_qubits\u001b[49m\u001b[43m(\u001b[49m\u001b[43merror\u001b[49m\u001b[43m,\u001b[49m\u001b[43m \u001b[49m\u001b[43mname\u001b[49m\u001b[43m)\u001b[49m\n\u001b[1;32m    691\u001b[0m     \u001b[38;5;28;01mif\u001b[39;00m label \u001b[38;5;129;01min\u001b[39;00m \u001b[38;5;28mself\u001b[39m\u001b[38;5;241m.\u001b[39m_default_quantum_errors:\n\u001b[1;32m    692\u001b[0m         new_error \u001b[38;5;241m=\u001b[39m \u001b[38;5;28mself\u001b[39m\u001b[38;5;241m.\u001b[39m_default_quantum_errors[label]\u001b[38;5;241m.\u001b[39mcompose(error)\n",
      "File \u001b[0;32m~/Desktop/QOSF mentorship/QOSFMentorship-JosefinaCresta-Cohort9ScreeningTasks/env/lib/python3.11/site-packages/qiskit_aer/noise/noise_model.py:1097\u001b[0m, in \u001b[0;36mNoiseModel._check_number_of_qubits\u001b[0;34m(self, error, name)\u001b[0m\n\u001b[1;32m   1094\u001b[0m     \u001b[38;5;28;01mreturn\u001b[39;00m msg\n\u001b[1;32m   1096\u001b[0m \u001b[38;5;28;01mif\u001b[39;00m name \u001b[38;5;129;01min\u001b[39;00m \u001b[38;5;28mself\u001b[39m\u001b[38;5;241m.\u001b[39m_1qubit_instructions \u001b[38;5;129;01mand\u001b[39;00m error\u001b[38;5;241m.\u001b[39mnum_qubits \u001b[38;5;241m!=\u001b[39m \u001b[38;5;241m1\u001b[39m:\n\u001b[0;32m-> 1097\u001b[0m     \u001b[38;5;28;01mraise\u001b[39;00m NoiseError(error_message(\u001b[38;5;241m1\u001b[39m))\n\u001b[1;32m   1098\u001b[0m \u001b[38;5;28;01mif\u001b[39;00m name \u001b[38;5;129;01min\u001b[39;00m \u001b[38;5;28mself\u001b[39m\u001b[38;5;241m.\u001b[39m_2qubit_instructions \u001b[38;5;129;01mand\u001b[39;00m error\u001b[38;5;241m.\u001b[39mnum_qubits \u001b[38;5;241m!=\u001b[39m \u001b[38;5;241m2\u001b[39m:\n\u001b[1;32m   1099\u001b[0m     \u001b[38;5;28;01mraise\u001b[39;00m NoiseError(error_message(\u001b[38;5;241m2\u001b[39m))\n",
      "\u001b[0;31mNoiseError\u001b[0m: '2 qubit QuantumError cannot be applied to 1 qubit instruction \"u1\".'"
     ]
    }
   ],
   "source": [
    "# Define a noise model\n",
    "depolarizing_error_prob = 0.01\n",
    "noise_model = build_noise_model(depolarizing_error_prob, 2)"
   ]
  },
  {
   "cell_type": "markdown",
   "metadata": {},
   "source": [
    "## Lets Fix the `build_noise_model()` for 1-qubit and 2-qubit gates"
   ]
  },
  {
   "cell_type": "code",
   "execution_count": 45,
   "metadata": {},
   "outputs": [],
   "source": [
    "def build_noise_model(depolarizing_error_prob):\n",
    "    noise_model = NoiseModel()\n",
    "    \n",
    "    # Create depolarizing error models for 1-qubit and 2-qubit gates\n",
    "    depol_error_1q = depolarizing_error(depolarizing_error_prob, 1)\n",
    "    depol_error_2q = depolarizing_error(depolarizing_error_prob, 2)\n",
    "    \n",
    "    # Apply the single-qubit depolarizing error model to single-qubit gates\n",
    "    noise_model.add_all_qubit_quantum_error(depol_error_1q, ['u1', 'u2', 'u3'])\n",
    "    \n",
    "    # Apply the two-qubit depolarizing error model to two-qubit gates\n",
    "    noise_model.add_all_qubit_quantum_error(depol_error_2q, ['cx'])\n",
    "    \n",
    "    return noise_model\n"
   ]
  },
  {
   "cell_type": "markdown",
   "metadata": {},
   "source": [
    "### Return to Simulate both the original and the folded circuit with a noise model:"
   ]
  },
  {
   "cell_type": "markdown",
   "metadata": {},
   "source": [
    "* simple_circuit"
   ]
  },
  {
   "cell_type": "code",
   "execution_count": 42,
   "metadata": {},
   "outputs": [
    {
     "data": {
      "text/html": [
       "<pre style=\"word-wrap: normal;white-space: pre;background: #fff0;line-height: 1.1;font-family: &quot;Courier New&quot;,Courier,monospace\">   ┌───┐\n",
       "q: ┤ H ├\n",
       "   └───┘</pre>"
      ],
      "text/plain": [
       "   ┌───┐\n",
       "q: ┤ H ├\n",
       "   └───┘"
      ]
     },
     "execution_count": 42,
     "metadata": {},
     "output_type": "execute_result"
    }
   ],
   "source": [
    "simple_circuit = create_circuit()\n",
    "simple_circuit.draw()"
   ]
  },
  {
   "cell_type": "code",
   "execution_count": 43,
   "metadata": {},
   "outputs": [
    {
     "data": {
      "text/html": [
       "<pre style=\"word-wrap: normal;white-space: pre;background: #fff0;line-height: 1.1;font-family: &quot;Courier New&quot;,Courier,monospace\">   ┌───┐┌───┐┌───┐┌───┐┌───┐\n",
       "q: ┤ H ├┤ H ├┤ H ├┤ H ├┤ H ├\n",
       "   └───┘└───┘└───┘└───┘└───┘</pre>"
      ],
      "text/plain": [
       "   ┌───┐┌───┐┌───┐┌───┐┌───┐\n",
       "q: ┤ H ├┤ H ├┤ H ├┤ H ├┤ H ├\n",
       "   └───┘└───┘└───┘└───┘└───┘"
      ]
     },
     "execution_count": 43,
     "metadata": {},
     "output_type": "execute_result"
    }
   ],
   "source": [
    "folded_simple_circuit = fold_circuit(simple_circuit, 3)\n",
    "folded_simple_circuit.draw()"
   ]
  },
  {
   "cell_type": "code",
   "execution_count": 46,
   "metadata": {},
   "outputs": [],
   "source": [
    "# Define a noise model (from previous steps)\n",
    "depolarizing_error_prob = 0.01\n",
    "noise_model = build_noise_model(depolarizing_error_prob)"
   ]
  },
  {
   "cell_type": "code",
   "execution_count": 47,
   "metadata": {},
   "outputs": [
    {
     "name": "stdout",
     "output_type": "stream",
     "text": [
      "Original Circuit Counts: {'0': 513, '1': 511}\n",
      "Folded Circuit Counts: {'1': 496, '0': 528}\n"
     ]
    },
    {
     "name": "stderr",
     "output_type": "stream",
     "text": [
      "/var/folders/rh/r7s1vfq50cj305_qp12kpvk00000gn/T/ipykernel_837/1993500261.py:7: DeprecationWarning: Using a qobj for run() is deprecated as of qiskit-aer 0.9.0 and will be removed no sooner than 3 months from that release date. Transpiled circuits should now be passed directly using `backend.run(circuits, **run_options).\n",
      "  job_original = simulator.run(qobj_original)\n",
      "/var/folders/rh/r7s1vfq50cj305_qp12kpvk00000gn/T/ipykernel_837/1993500261.py:15: DeprecationWarning: Using a qobj for run() is deprecated as of qiskit-aer 0.9.0 and will be removed no sooner than 3 months from that release date. Transpiled circuits should now be passed directly using `backend.run(circuits, **run_options).\n",
      "  job_folded = simulator.run(qobj_folded)\n"
     ]
    },
    {
     "data": {
      "image/png": "[encoded data removed]",
      "text/plain": [
       "<Figure size 700x500 with 1 Axes>"
      ]
     },
     "execution_count": 47,
     "metadata": {},
     "output_type": "execute_result"
    }
   ],
   "source": [
    "simulator = AerSimulator(noise_model=noise_model)\n",
    "\n",
    "# Simulate the original circuit\n",
    "simple_circuit.measure_all()\n",
    "transpiled_circuit = transpile(simple_circuit, simulator)\n",
    "qobj_original = assemble(transpiled_circuit, simulator, shots=1024)\n",
    "job_original = simulator.run(qobj_original)\n",
    "result_original = job_original.result()\n",
    "counts_original = result_original.get_counts(simple_circuit)\n",
    "\n",
    "# Simulate the folded circuit\n",
    "folded_simple_circuit.measure_all()\n",
    "transpiled_folded_circuit = transpile(folded_simple_circuit, simulator)\n",
    "qobj_folded= assemble(transpiled_folded_circuit, simulator, shots=1024)\n",
    "job_folded = simulator.run(qobj_folded)\n",
    "result_folded = job_folded.result()\n",
    "counts_folded = result_folded.get_counts(simple_circuit)\n",
    "\n",
    "# Display the results\n",
    "print(\"Original Circuit Counts:\", counts_original)\n",
    "print(\"Folded Circuit Counts:\", counts_folded)\n",
    "plot_histogram([counts_original, counts_folded], legend=['Original', 'Folded'])"
   ]
  },
  {
   "cell_type": "markdown",
   "metadata": {},
   "source": [
    "`measure_all()` is for getting the probabilities of each computational basis state after running the circuit, \n",
    "\n",
    "while measuring an observable like `Pauli-Z` is for getting the expectation value (the average outcome) of that observable in the state produced by your circuit."
   ]
  },
  {
   "cell_type": "code",
   "execution_count": 87,
   "metadata": {},
   "outputs": [],
   "source": [
    "def measure_observable(circuit, observable, noise_model=None):\n",
    "    backend = Aer.get_backend('qasm_simulator')\n",
    "    circuit.save_statevector()\n",
    "    transpiled_circuit = transpile(circuit, backend)\n",
    "    job = backend.run(transpiled_circuit, noise_model=noise_model)\n",
    "    result = job.result()\n",
    "    state = Statevector(result.get_statevector(circuit))\n",
    "    expectation_value = state.expectation_value(observable)\n",
    "    return expectation_value.real"
   ]
  },
  {
   "cell_type": "code",
   "execution_count": 89,
   "metadata": {},
   "outputs": [],
   "source": [
    "simple_circuit = create_circuit()\n",
    "simple_observable = Operator(Pauli('Z'))\n",
    "depolarizing_error_prob = 0.01\n",
    "noise_model = build_noise_model(depolarizing_error_prob)"
   ]
  },
  {
   "cell_type": "code",
   "execution_count": 90,
   "metadata": {},
   "outputs": [
    {
     "data": {
      "text/plain": [
       "2.220446049250313e-16"
      ]
     },
     "execution_count": 90,
     "metadata": {},
     "output_type": "execute_result"
    }
   ],
   "source": [
    "measure_observable(simple_circuit, simple_observable, noise_model)"
   ]
  },
  {
   "cell_type": "code",
   "execution_count": 91,
   "metadata": {},
   "outputs": [
    {
     "data": {
      "text/html": [
       "<pre style=\"word-wrap: normal;white-space: pre;background: #fff0;line-height: 1.1;font-family: &quot;Courier New&quot;,Courier,monospace\">   ┌───┐ statevector \n",
       "q: ┤ H ├──────░──────\n",
       "   └───┘      ░      </pre>"
      ],
      "text/plain": [
       "   ┌───┐ statevector \n",
       "q: ┤ H ├──────░──────\n",
       "   └───┘      ░      "
      ]
     },
     "execution_count": 91,
     "metadata": {},
     "output_type": "execute_result"
    }
   ],
   "source": [
    "simple_circuit.draw()"
   ]
  },
  {
   "cell_type": "code",
   "execution_count": 92,
   "metadata": {},
   "outputs": [
    {
     "data": {
      "text/html": [
       "<pre style=\"word-wrap: normal;white-space: pre;background: #fff0;line-height: 1.1;font-family: &quot;Courier New&quot;,Courier,monospace\">   ┌───┐┌───┐┌───┐┌───┐┌───┐\n",
       "q: ┤ H ├┤ H ├┤ H ├┤ H ├┤ H ├\n",
       "   └───┘└───┘└───┘└───┘└───┘</pre>"
      ],
      "text/plain": [
       "   ┌───┐┌───┐┌───┐┌───┐┌───┐\n",
       "q: ┤ H ├┤ H ├┤ H ├┤ H ├┤ H ├\n",
       "   └───┘└───┘└───┘└───┘└───┘"
      ]
     },
     "execution_count": 92,
     "metadata": {},
     "output_type": "execute_result"
    }
   ],
   "source": [
    "simple_circuit = create_circuit()\n",
    "folded_simple_circuit = fold_circuit(simple_circuit, 3)\n",
    "folded_simple_circuit.draw()\n"
   ]
  },
  {
   "cell_type": "code",
   "execution_count": 93,
   "metadata": {},
   "outputs": [
    {
     "data": {
      "text/plain": [
       "2.220446049250313e-16"
      ]
     },
     "execution_count": 93,
     "metadata": {},
     "output_type": "execute_result"
    }
   ],
   "source": [
    "measure_observable(folded_simple_circuit, simple_observable, noise_model)"
   ]
  },
  {
   "cell_type": "markdown",
   "metadata": {},
   "source": [
    "* bell_circuit"
   ]
  },
  {
   "cell_type": "code",
   "execution_count": 48,
   "metadata": {},
   "outputs": [
    {
     "data": {
      "text/html": [
       "<pre style=\"word-wrap: normal;white-space: pre;background: #fff0;line-height: 1.1;font-family: &quot;Courier New&quot;,Courier,monospace\">     ┌───┐     \n",
       "q_0: ┤ H ├──■──\n",
       "     └───┘┌─┴─┐\n",
       "q_1: ─────┤ X ├\n",
       "          └───┘</pre>"
      ],
      "text/plain": [
       "     ┌───┐     \n",
       "q_0: ┤ H ├──■──\n",
       "     └───┘┌─┴─┐\n",
       "q_1: ─────┤ X ├\n",
       "          └───┘"
      ]
     },
     "execution_count": 48,
     "metadata": {},
     "output_type": "execute_result"
    }
   ],
   "source": [
    "bell_circuit = bell_state_circuit()\n",
    "bell_circuit.draw()"
   ]
  },
  {
   "cell_type": "code",
   "execution_count": 49,
   "metadata": {},
   "outputs": [
    {
     "data": {
      "text/html": [
       "<pre style=\"word-wrap: normal;white-space: pre;background: #fff0;line-height: 1.1;font-family: &quot;Courier New&quot;,Courier,monospace\">     ┌───┐               ┌───┐┌───┐\n",
       "q_0: ┤ H ├──■────■────■──┤ H ├┤ H ├\n",
       "     └───┘┌─┴─┐┌─┴─┐┌─┴─┐└───┘└───┘\n",
       "q_1: ─────┤ X ├┤ X ├┤ X ├──────────\n",
       "          └───┘└───┘└───┘          </pre>"
      ],
      "text/plain": [
       "     ┌───┐               ┌───┐┌───┐\n",
       "q_0: ┤ H ├──■────■────■──┤ H ├┤ H ├\n",
       "     └───┘┌─┴─┐┌─┴─┐┌─┴─┐└───┘└───┘\n",
       "q_1: ─────┤ X ├┤ X ├┤ X ├──────────\n",
       "          └───┘└───┘└───┘          "
      ]
     },
     "execution_count": 49,
     "metadata": {},
     "output_type": "execute_result"
    }
   ],
   "source": [
    "folded_bell_circuit = fold_circuit(bell_circuit, 2)\n",
    "folded_bell_circuit.draw()"
   ]
  },
  {
   "cell_type": "code",
   "execution_count": 50,
   "metadata": {},
   "outputs": [
    {
     "name": "stdout",
     "output_type": "stream",
     "text": [
      "Original Circuit Counts: {'01': 6, '10': 2, '11': 514, '00': 502}\n",
      "Folded Circuit Counts: {'01': 1, '10': 3, '00': 542, '11': 478}\n"
     ]
    },
    {
     "name": "stderr",
     "output_type": "stream",
     "text": [
      "/var/folders/rh/r7s1vfq50cj305_qp12kpvk00000gn/T/ipykernel_837/2618326249.py:11: DeprecationWarning: Using a qobj for run() is deprecated as of qiskit-aer 0.9.0 and will be removed no sooner than 3 months from that release date. Transpiled circuits should now be passed directly using `backend.run(circuits, **run_options).\n",
      "  job_bell_circuit_original = simulator.run(qobj_bell_circuit_original)\n",
      "/var/folders/rh/r7s1vfq50cj305_qp12kpvk00000gn/T/ipykernel_837/2618326249.py:19: DeprecationWarning: Using a qobj for run() is deprecated as of qiskit-aer 0.9.0 and will be removed no sooner than 3 months from that release date. Transpiled circuits should now be passed directly using `backend.run(circuits, **run_options).\n",
      "  job_folded_bell_circuit = simulator.run(qobj_folded_bell_circuit)\n"
     ]
    },
    {
     "data": {
      "image/png": "[encoded data removed]",
      "text/plain": [
       "<Figure size 700x500 with 1 Axes>"
      ]
     },
     "execution_count": 50,
     "metadata": {},
     "output_type": "execute_result"
    }
   ],
   "source": [
    "# Define a noise model (from previous steps)\n",
    "depolarizing_error_prob = 0.01\n",
    "noise_model = build_noise_model(depolarizing_error_prob)\n",
    "\n",
    "simulator = AerSimulator(noise_model=noise_model)\n",
    "\n",
    "# Simulate the original circuit\n",
    "bell_circuit.measure_all()\n",
    "transpiled_bell_circuit = transpile(bell_circuit, simulator)\n",
    "qobj_bell_circuit_original = assemble(transpiled_bell_circuit, simulator, shots=1024)\n",
    "job_bell_circuit_original = simulator.run(qobj_bell_circuit_original)\n",
    "result_bell_circuit_original = job_bell_circuit_original.result()\n",
    "counts_bell_circuit_original = result_bell_circuit_original.get_counts(bell_circuit)\n",
    "\n",
    "# Simulate the folded circuit\n",
    "folded_bell_circuit.measure_all()\n",
    "transpiled_folded_bell_circuit = transpile(folded_bell_circuit, simulator)\n",
    "qobj_folded_bell_circuit= assemble(transpiled_folded_bell_circuit, simulator, shots=1024)\n",
    "job_folded_bell_circuit = simulator.run(qobj_folded_bell_circuit)\n",
    "result_folded_bell_circuit = job_folded_bell_circuit.result()\n",
    "counts_folded_bell_circuit = result_folded_bell_circuit.get_counts(folded_bell_circuit)\n",
    "\n",
    "# Display the results\n",
    "print(\"Original Circuit Counts:\", counts_bell_circuit_original)\n",
    "print(\"Folded Circuit Counts:\", counts_folded_bell_circuit)\n",
    "plot_histogram([counts_bell_circuit_original, counts_folded_bell_circuit], legend=['Original Bell Circuit', 'FoldedBell Circuit'])"
   ]
  },
  {
   "cell_type": "markdown",
   "metadata": {},
   "source": [
    "With Observable"
   ]
  },
  {
   "cell_type": "code",
   "execution_count": 95,
   "metadata": {},
   "outputs": [],
   "source": [
    "bell_circuit = bell_state_circuit()\n",
    "observable_bell = Operator(Pauli('ZZ'))\n",
    "depolarizing_error_prob = 0.01\n",
    "noise_model = build_noise_model(depolarizing_error_prob)"
   ]
  },
  {
   "cell_type": "code",
   "execution_count": 96,
   "metadata": {},
   "outputs": [
    {
     "data": {
      "text/plain": [
       "1.0"
      ]
     },
     "execution_count": 96,
     "metadata": {},
     "output_type": "execute_result"
    }
   ],
   "source": [
    "measure_observable(bell_circuit, observable_bell, noise_model)"
   ]
  },
  {
   "cell_type": "code",
   "execution_count": 97,
   "metadata": {},
   "outputs": [
    {
     "data": {
      "text/html": [
       "<pre style=\"word-wrap: normal;white-space: pre;background: #fff0;line-height: 1.1;font-family: &quot;Courier New&quot;,Courier,monospace\">     ┌───┐      statevector \n",
       "q_0: ┤ H ├──■────────░──────\n",
       "     └───┘┌─┴─┐      ░      \n",
       "q_1: ─────┤ X ├──────░──────\n",
       "          └───┘      ░      </pre>"
      ],
      "text/plain": [
       "     ┌───┐      statevector \n",
       "q_0: ┤ H ├──■────────░──────\n",
       "     └───┘┌─┴─┐      ░      \n",
       "q_1: ─────┤ X ├──────░──────\n",
       "          └───┘      ░      "
      ]
     },
     "execution_count": 97,
     "metadata": {},
     "output_type": "execute_result"
    }
   ],
   "source": [
    "bell_circuit.draw()"
   ]
  },
  {
   "cell_type": "code",
   "execution_count": 99,
   "metadata": {},
   "outputs": [
    {
     "data": {
      "text/plain": [
       "1.0"
      ]
     },
     "execution_count": 99,
     "metadata": {},
     "output_type": "execute_result"
    }
   ],
   "source": [
    "bell_circuit = bell_state_circuit()\n",
    "folded_bell_circuit = fold_circuit(bell_circuit, 2)\n",
    "measure_observable(folded_bell_circuit, observable_bell, noise_model)"
   ]
  },
  {
   "cell_type": "code",
   "execution_count": 100,
   "metadata": {},
   "outputs": [
    {
     "data": {
      "text/html": [
       "<pre style=\"word-wrap: normal;white-space: pre;background: #fff0;line-height: 1.1;font-family: &quot;Courier New&quot;,Courier,monospace\">     ┌───┐               ┌───┐┌───┐ statevector \n",
       "q_0: ┤ H ├──■────■────■──┤ H ├┤ H ├──────░──────\n",
       "     └───┘┌─┴─┐┌─┴─┐┌─┴─┐└───┘└───┘      ░      \n",
       "q_1: ─────┤ X ├┤ X ├┤ X ├────────────────░──────\n",
       "          └───┘└───┘└───┘                ░      </pre>"
      ],
      "text/plain": [
       "     ┌───┐               ┌───┐┌───┐ statevector \n",
       "q_0: ┤ H ├──■────■────■──┤ H ├┤ H ├──────░──────\n",
       "     └───┘┌─┴─┐┌─┴─┐┌─┴─┐└───┘└───┘      ░      \n",
       "q_1: ─────┤ X ├┤ X ├┤ X ├────────────────░──────\n",
       "          └───┘└───┘└───┘                ░      "
      ]
     },
     "execution_count": 100,
     "metadata": {},
     "output_type": "execute_result"
    }
   ],
   "source": [
    "folded_bell_circuit.draw()"
   ]
  },
  {
   "cell_type": "markdown",
   "metadata": {},
   "source": [
    "* ghz_3_qubit_circuit"
   ]
  },
  {
   "cell_type": "code",
   "execution_count": 53,
   "metadata": {},
   "outputs": [
    {
     "data": {
      "text/html": [
       "<pre style=\"word-wrap: normal;white-space: pre;background: #fff0;line-height: 1.1;font-family: &quot;Courier New&quot;,Courier,monospace\">     ┌───┐                              ┌───┐┌───┐\n",
       "q_0: ┤ H ├──■───────────────────■────■──┤ H ├┤ H ├\n",
       "     └───┘┌─┴─┐               ┌─┴─┐┌─┴─┐└───┘└───┘\n",
       "q_1: ─────┤ X ├──■────■────■──┤ X ├┤ X ├──────────\n",
       "          └───┘┌─┴─┐┌─┴─┐┌─┴─┐└───┘└───┘          \n",
       "q_2: ──────────┤ X ├┤ X ├┤ X ├────────────────────\n",
       "               └───┘└───┘└───┘                    </pre>"
      ],
      "text/plain": [
       "     ┌───┐                              ┌───┐┌───┐\n",
       "q_0: ┤ H ├──■───────────────────■────■──┤ H ├┤ H ├\n",
       "     └───┘┌─┴─┐               ┌─┴─┐┌─┴─┐└───┘└───┘\n",
       "q_1: ─────┤ X ├──■────■────■──┤ X ├┤ X ├──────────\n",
       "          └───┘┌─┴─┐┌─┴─┐┌─┴─┐└───┘└───┘          \n",
       "q_2: ──────────┤ X ├┤ X ├┤ X ├────────────────────\n",
       "               └───┘└───┘└───┘                    "
      ]
     },
     "execution_count": 53,
     "metadata": {},
     "output_type": "execute_result"
    }
   ],
   "source": [
    "num_qubits = 3\n",
    "ghz_3_qubit_circuit = ghz_state_circuit(num_qubits)\n",
    "ghz_3_qubit_circuit.draw()\n",
    "folded_ghz_3_qubit_circuit = fold_circuit(ghz_3_qubit_circuit, 2)\n",
    "folded_ghz_3_qubit_circuit.draw()"
   ]
  },
  {
   "cell_type": "code",
   "execution_count": 54,
   "metadata": {},
   "outputs": [
    {
     "name": "stdout",
     "output_type": "stream",
     "text": [
      "Original Circuit Counts: {'001': 3, '110': 3, '100': 2, '111': 511, '101': 1, '000': 504}\n",
      "Folded Circuit Counts: {'001': 5, '011': 2, '110': 1, '000': 531, '111': 485}\n"
     ]
    },
    {
     "name": "stderr",
     "output_type": "stream",
     "text": [
      "/var/folders/rh/r7s1vfq50cj305_qp12kpvk00000gn/T/ipykernel_837/3148154548.py:11: DeprecationWarning: Using a qobj for run() is deprecated as of qiskit-aer 0.9.0 and will be removed no sooner than 3 months from that release date. Transpiled circuits should now be passed directly using `backend.run(circuits, **run_options).\n",
      "  job_ghz_3_qubit_circuit = simulator.run(qobj_ghz_3_qubit_circuit)\n",
      "/var/folders/rh/r7s1vfq50cj305_qp12kpvk00000gn/T/ipykernel_837/3148154548.py:19: DeprecationWarning: Using a qobj for run() is deprecated as of qiskit-aer 0.9.0 and will be removed no sooner than 3 months from that release date. Transpiled circuits should now be passed directly using `backend.run(circuits, **run_options).\n",
      "  job_folded_ghz_3_qubit_circuit = simulator.run(qobj_folded_ghz_3_qubit_circuit)\n"
     ]
    },
    {
     "data": {
      "image/png": "[encoded data removed]",
      "text/plain": [
       "<Figure size 700x500 with 1 Axes>"
      ]
     },
     "execution_count": 54,
     "metadata": {},
     "output_type": "execute_result"
    }
   ],
   "source": [
    "# Define a noise model (from previous steps)\n",
    "depolarizing_error_prob = 0.01\n",
    "noise_model = build_noise_model(depolarizing_error_prob)\n",
    "\n",
    "simulator = AerSimulator(noise_model=noise_model)\n",
    "\n",
    "# Simulate the original circuit\n",
    "ghz_3_qubit_circuit.measure_all()\n",
    "transpiled_ghz_3_qubit_circuit = transpile(ghz_3_qubit_circuit, simulator)\n",
    "qobj_ghz_3_qubit_circuit = assemble(transpiled_ghz_3_qubit_circuit, simulator, shots=1024)\n",
    "job_ghz_3_qubit_circuit = simulator.run(qobj_ghz_3_qubit_circuit)\n",
    "result_ghz_3_qubit_circuit = job_ghz_3_qubit_circuit.result()\n",
    "counts_ghz_3_qubit_circuit = result_ghz_3_qubit_circuit.get_counts(ghz_3_qubit_circuit)\n",
    "\n",
    "# Simulate the folded circuit\n",
    "folded_ghz_3_qubit_circuit.measure_all()\n",
    "transpiled_folded_ghz_3_qubit_circuit = transpile(folded_ghz_3_qubit_circuit, simulator)\n",
    "qobj_folded_ghz_3_qubit_circuit= assemble(transpiled_folded_ghz_3_qubit_circuit, simulator, shots=1024)\n",
    "job_folded_ghz_3_qubit_circuit = simulator.run(qobj_folded_ghz_3_qubit_circuit)\n",
    "result_folded_ghz_3_qubit_circuit = job_folded_ghz_3_qubit_circuit.result()\n",
    "counts_folded_ghz_3_qubit_circuit = result_folded_ghz_3_qubit_circuit.get_counts(folded_ghz_3_qubit_circuit)\n",
    "\n",
    "# Display the results\n",
    "print(\"Original Circuit Counts:\", counts_ghz_3_qubit_circuit)\n",
    "print(\"Folded Circuit Counts:\", counts_folded_ghz_3_qubit_circuit)\n",
    "plot_histogram([counts_ghz_3_qubit_circuit, counts_folded_ghz_3_qubit_circuit], legend=['Original ghz_3_qubit_circuit', 'Folded ghz_3_qubit_circuit'])"
   ]
  },
  {
   "cell_type": "markdown",
   "metadata": {},
   "source": [
    "with observable"
   ]
  },
  {
   "cell_type": "code",
   "execution_count": 105,
   "metadata": {},
   "outputs": [
    {
     "data": {
      "text/plain": [
       "2.220446049250313e-16"
      ]
     },
     "execution_count": 105,
     "metadata": {},
     "output_type": "execute_result"
    }
   ],
   "source": [
    "num_qubits = 3\n",
    "ghz_3_qubit_circuit = ghz_state_circuit(num_qubits)\n",
    "observable_ghz = Operator(Pauli('Z' * num_qubits))\n",
    "measure_observable(ghz_3_qubit_circuit, observable_ghz, noise_model)"
   ]
  },
  {
   "cell_type": "code",
   "execution_count": 106,
   "metadata": {},
   "outputs": [
    {
     "data": {
      "text/html": [
       "<pre style=\"word-wrap: normal;white-space: pre;background: #fff0;line-height: 1.1;font-family: &quot;Courier New&quot;,Courier,monospace\">     ┌───┐           statevector \n",
       "q_0: ┤ H ├──■─────────────░──────\n",
       "     └───┘┌─┴─┐           ░      \n",
       "q_1: ─────┤ X ├──■────────░──────\n",
       "          └───┘┌─┴─┐      ░      \n",
       "q_2: ──────────┤ X ├──────░──────\n",
       "               └───┘      ░      </pre>"
      ],
      "text/plain": [
       "     ┌───┐           statevector \n",
       "q_0: ┤ H ├──■─────────────░──────\n",
       "     └───┘┌─┴─┐           ░      \n",
       "q_1: ─────┤ X ├──■────────░──────\n",
       "          └───┘┌─┴─┐      ░      \n",
       "q_2: ──────────┤ X ├──────░──────\n",
       "               └───┘      ░      "
      ]
     },
     "execution_count": 106,
     "metadata": {},
     "output_type": "execute_result"
    }
   ],
   "source": [
    "ghz_3_qubit_circuit.draw()"
   ]
  },
  {
   "cell_type": "code",
   "execution_count": 107,
   "metadata": {},
   "outputs": [
    {
     "data": {
      "text/plain": [
       "2.220446049250313e-16"
      ]
     },
     "execution_count": 107,
     "metadata": {},
     "output_type": "execute_result"
    }
   ],
   "source": [
    "num_qubits = 3\n",
    "ghz_3_qubit_circuit = ghz_state_circuit(num_qubits)\n",
    "folded_ghz_3_qubit_circuit = fold_circuit(ghz_3_qubit_circuit, 2)\n",
    "measure_observable(folded_ghz_3_qubit_circuit, observable_ghz, noise_model)"
   ]
  },
  {
   "cell_type": "code",
   "execution_count": 108,
   "metadata": {},
   "outputs": [
    {
     "data": {
      "text/html": [
       "<pre style=\"word-wrap: normal;white-space: pre;background: #fff0;line-height: 1.1;font-family: &quot;Courier New&quot;,Courier,monospace\">     ┌───┐                              ┌───┐┌───┐ statevector \n",
       "q_0: ┤ H ├──■───────────────────■────■──┤ H ├┤ H ├──────░──────\n",
       "     └───┘┌─┴─┐               ┌─┴─┐┌─┴─┐└───┘└───┘      ░      \n",
       "q_1: ─────┤ X ├──■────■────■──┤ X ├┤ X ├────────────────░──────\n",
       "          └───┘┌─┴─┐┌─┴─┐┌─┴─┐└───┘└───┘                ░      \n",
       "q_2: ──────────┤ X ├┤ X ├┤ X ├──────────────────────────░──────\n",
       "               └───┘└───┘└───┘                          ░      </pre>"
      ],
      "text/plain": [
       "     ┌───┐                              ┌───┐┌───┐ statevector \n",
       "q_0: ┤ H ├──■───────────────────■────■──┤ H ├┤ H ├──────░──────\n",
       "     └───┘┌─┴─┐               ┌─┴─┐┌─┴─┐└───┘└───┘      ░      \n",
       "q_1: ─────┤ X ├──■────■────■──┤ X ├┤ X ├────────────────░──────\n",
       "          └───┘┌─┴─┐┌─┴─┐┌─┴─┐└───┘└───┘                ░      \n",
       "q_2: ──────────┤ X ├┤ X ├┤ X ├──────────────────────────░──────\n",
       "               └───┘└───┘└───┘                          ░      "
      ]
     },
     "execution_count": 108,
     "metadata": {},
     "output_type": "execute_result"
    }
   ],
   "source": [
    "folded_ghz_3_qubit_circuit.draw()"
   ]
  },
  {
   "cell_type": "markdown",
   "metadata": {},
   "source": [
    "# 4) Apply the Extrapolation Method\n",
    "Here run circuits with different noise scale factors and then extrapolate to zero noise. Here is a simple linear extrapolation as an example."
   ]
  },
  {
   "cell_type": "code",
   "execution_count": 7,
   "metadata": {},
   "outputs": [],
   "source": [
    "import numpy as np\n",
    "\n",
    "def linear_extrapolation(data_points, scale_factors):\n",
    "    # Assuming data_points = [observable(scale_factor_1), observable(scale_factor_2), ...]\n",
    "    # and scale_factors = [scale_factor_1, scale_factor_2, ...]\n",
    "    coeffs = np.polyfit(scale_factors, data_points, 1)\n",
    "    return coeffs[-1]  # Zero-noise limit is the intercept of the linear fit\n"
   ]
  },
  {
   "cell_type": "markdown",
   "metadata": {},
   "source": [
    "The process involves executing a quantum circuit at different levels of noise and then using these data points to predict the result you would get if there were no noise at all. Let's explore how to apply different extrapolation methods."
   ]
  },
  {
   "cell_type": "markdown",
   "metadata": {},
   "source": [
    "### Linear Extrapolation\n",
    "\n",
    "Assumes that the relationship between the observable's expectation value and the noise scale factor is linear. You run the quantum circuit without noise, and with noise scaled up by some factors, and fit a straight line to these points. The y-intercept of this line is the estimated zero-noise limit.\n",
    "\n",
    "Here's an example of linear extrapolation:"
   ]
  },
  {
   "cell_type": "code",
   "execution_count": 62,
   "metadata": {},
   "outputs": [],
   "source": [
    "import numpy as np\n",
    "\n",
    "def linear_extrapolate(scale_factors, expectation_values):\n",
    "    fit = np.polyfit(scale_factors, expectation_values, 1)\n",
    "    return fit[1]  # Return the y-intercept\n"
   ]
  },
  {
   "cell_type": "markdown",
   "metadata": {},
   "source": [
    "### Polynomial Extrapolation\n",
    "If the relationship between noise and the observable is not linear, you might use a polynomial fit. Here's an example of using a quadratic fit (second-degree polynomial):"
   ]
  },
  {
   "cell_type": "code",
   "execution_count": 63,
   "metadata": {},
   "outputs": [],
   "source": [
    "def polynomial_extrapolate(scale_factors, expectation_values, degree=2):\n",
    "    fit = np.polyfit(scale_factors, expectation_values, degree)\n",
    "    return np.polyval(fit, 0)  # Evaluate the polynomial at zero noise"
   ]
  },
  {
   "cell_type": "markdown",
   "metadata": {},
   "source": [
    "### Exponential Extrapolation\n",
    "can be useful if the relationship between the noise scale factor and the observable follows an exponential decay pattern."
   ]
  },
  {
   "cell_type": "code",
   "execution_count": 64,
   "metadata": {},
   "outputs": [],
   "source": [
    "from scipy.optimize import curve_fit\n",
    "\n",
    "def exponential_fit(x, a, b, c):\n",
    "    return a * np.exp(b * x) + c\n",
    "\n",
    "def exponential_extrapolate(scale_factors, expectation_values):\n",
    "    params, _ = curve_fit(exponential_fit, scale_factors, expectation_values, p0=(1, -1, expectation_values[-1]))\n",
    "    return params[2]  # The last parameter is the y-offset, our zero-noise limit\n"
   ]
  },
  {
   "cell_type": "markdown",
   "metadata": {},
   "source": [
    "## Applying Extrapolation Methods\n",
    "\n",
    "To apply these methods, first need to gather data by running the circuit at various noise levels (or folding scales) and then apply the above functions to extrapolate to the zero-noise limit. "
   ]
  },
  {
   "cell_type": "markdown",
   "metadata": {},
   "source": [
    "* Simple Circuit"
   ]
  },
  {
   "cell_type": "code",
   "execution_count": 117,
   "metadata": {},
   "outputs": [],
   "source": [
    "# Assume scale_factors and expectation_values are lists of your data points\n",
    "scale_factors = [1, 2, 3]  # Example scale factors\n",
    "expectation_values = []  # Replace with the actual expectation values obtained\n",
    "\n",
    "\n",
    "for scale in scale_factors:\n",
    "    simple_circuit = create_circuit()\n",
    "    simple_observable = Operator(Pauli('Z'))\n",
    "    # Apply folding to the circuit based on the current scale factor\n",
    "    folded_circuit = fold_circuit(simple_circuit, scale)\n",
    "    \n",
    "    # Measure the expectation value for the folded circuit\n",
    "    exp_val = measure_observable(folded_circuit, simple_observable, noise_model)\n",
    "    \n",
    "    # Store the expectation value\n",
    "    expectation_values.append(exp_val)"
   ]
  },
  {
   "cell_type": "code",
   "execution_count": 118,
   "metadata": {},
   "outputs": [
    {
     "data": {
      "text/plain": [
       "[2.220446049250313e-16, 2.220446049250313e-16, 2.220446049250313e-16]"
      ]
     },
     "execution_count": 118,
     "metadata": {},
     "output_type": "execute_result"
    }
   ],
   "source": [
    "expectation_values"
   ]
  },
  {
   "cell_type": "code",
   "execution_count": 119,
   "metadata": {},
   "outputs": [
    {
     "name": "stdout",
     "output_type": "stream",
     "text": [
      "Linear Zero-Noise Limit: 2.2204460492503123e-16\n",
      "Polynomial Zero-Noise Limit: 2.2204460492503094e-16\n",
      "Exponential Zero-Noise Limit: 2.2204460452617192e-16\n"
     ]
    },
    {
     "name": "stderr",
     "output_type": "stream",
     "text": [
      "/var/folders/rh/r7s1vfq50cj305_qp12kpvk00000gn/T/ipykernel_837/3274629313.py:7: OptimizeWarning: Covariance of the parameters could not be estimated\n",
      "  params, _ = curve_fit(exponential_fit, scale_factors, expectation_values, p0=(1, -1, expectation_values[-1]))\n"
     ]
    }
   ],
   "source": [
    "# Apply linear extrapolation\n",
    "linear_zero_noise_limit = linear_extrapolate(scale_factors, expectation_values)\n",
    "\n",
    "# Apply polynomial extrapolation\n",
    "polynomial_zero_noise_limit = polynomial_extrapolate(scale_factors, expectation_values, degree=2)\n",
    "\n",
    "# Apply exponential extrapolation\n",
    "exponential_zero_noise_limit = exponential_extrapolate(scale_factors, expectation_values)\n",
    "\n",
    "# Compare the results\n",
    "print(f\"Linear Zero-Noise Limit: {linear_zero_noise_limit}\")\n",
    "print(f\"Polynomial Zero-Noise Limit: {polynomial_zero_noise_limit}\")\n",
    "print(f\"Exponential Zero-Noise Limit: {exponential_zero_noise_limit}\")\n"
   ]
  },
  {
   "cell_type": "markdown",
   "metadata": {},
   "source": [
    "The Simple Circuit described applies a Hadamard (H) gate to a qubit initially in the state |0>. The H gate transforms the qubit into an equal superposition state $\\frac{|0>+ |1>}{\\sqrt{2}}$.\n",
    "\n",
    "Measuring the expectation value of the Pauli-Z operator for this state yields 0 because:\n",
    "\n",
    "- The Pauli-Z operator has eigenvalues of +1 for the |0> state and -1 for the |1> state.\n",
    "- The superposition created by the H gate results in equal probabilities (50%) of the qubit being in either the |0> or |1> state.\n",
    "\n",
    "Therefore, the expectation value calculation for the Pauli-Z operator is $0.5(+1) + 0.5(-1) = 0$, reflecting the balanced likelihood of measuring the qubit in either state in the Z basis. This balance leads to an overall expectation value of 0 for the Z observable.\n"
   ]
  },
  {
   "cell_type": "markdown",
   "metadata": {},
   "source": [
    "Lets try with the others circuits. "
   ]
  },
  {
   "cell_type": "markdown",
   "metadata": {},
   "source": [
    "* Bell Circuit"
   ]
  },
  {
   "cell_type": "code",
   "execution_count": 120,
   "metadata": {},
   "outputs": [],
   "source": [
    "# Assume scale_factors and expectation_values are lists of your data points\n",
    "scale_factors = [1, 2, 3]  # Example scale factors\n",
    "expectation_values = []  # Replace with the actual expectation values obtained\n",
    "\n",
    "\n",
    "for scale in scale_factors:\n",
    "    bell_circuit = bell_state_circuit()\n",
    "    observable_bell = Operator(Pauli('ZZ'))\n",
    "    # Apply folding to the circuit based on the current scale factor\n",
    "    folded_circuit = fold_circuit(bell_circuit, scale)\n",
    "    \n",
    "    # Measure the expectation value for the folded circuit\n",
    "    exp_val = measure_observable(folded_circuit, observable_bell, noise_model)\n",
    "    \n",
    "    # Store the expectation value\n",
    "    expectation_values.append(exp_val)"
   ]
  },
  {
   "cell_type": "code",
   "execution_count": 121,
   "metadata": {},
   "outputs": [
    {
     "data": {
      "text/plain": [
       "[1.0, 1.0, 1.0]"
      ]
     },
     "execution_count": 121,
     "metadata": {},
     "output_type": "execute_result"
    }
   ],
   "source": [
    "expectation_values"
   ]
  },
  {
   "cell_type": "code",
   "execution_count": 122,
   "metadata": {},
   "outputs": [
    {
     "name": "stdout",
     "output_type": "stream",
     "text": [
      "Linear Zero-Noise Limit: 0.9999999999999997\n",
      "Polynomial Zero-Noise Limit: 0.9999999999999983\n",
      "Exponential Zero-Noise Limit: 1.000000000290197\n"
     ]
    },
    {
     "name": "stderr",
     "output_type": "stream",
     "text": [
      "/var/folders/rh/r7s1vfq50cj305_qp12kpvk00000gn/T/ipykernel_837/3274629313.py:7: OptimizeWarning: Covariance of the parameters could not be estimated\n",
      "  params, _ = curve_fit(exponential_fit, scale_factors, expectation_values, p0=(1, -1, expectation_values[-1]))\n"
     ]
    }
   ],
   "source": [
    "# Apply linear extrapolation\n",
    "linear_zero_noise_limit = linear_extrapolate(scale_factors, expectation_values)\n",
    "\n",
    "# Apply polynomial extrapolation\n",
    "polynomial_zero_noise_limit = polynomial_extrapolate(scale_factors, expectation_values, degree=2)\n",
    "\n",
    "# Apply exponential extrapolation\n",
    "exponential_zero_noise_limit = exponential_extrapolate(scale_factors, expectation_values)\n",
    "\n",
    "# Compare the results\n",
    "print(f\"Linear Zero-Noise Limit: {linear_zero_noise_limit}\")\n",
    "print(f\"Polynomial Zero-Noise Limit: {polynomial_zero_noise_limit}\")\n",
    "print(f\"Exponential Zero-Noise Limit: {exponential_zero_noise_limit}\")"
   ]
  },
  {
   "cell_type": "markdown",
   "metadata": {},
   "source": [
    "The Bell state circuit constructs a maximally entangled state $\\frac{|00>+ |11>}{\\sqrt{2}}$, and when measured with the Pauli-ZZ observable, it ideally yields an expectation value of 1. This reflects the perfect correlation between the qubits in the Z-basis. \n",
    "\n",
    "After applying Zero-Noise Extrapolation (ZNE) methods with different extrapolation techniques (Linear, Polynomial, and Exponential), the Zero-Noise Limits obtained are very close to 1:\n",
    "\n",
    "- Linear Zero-Noise Limit: 0.9999999999999997\n",
    "- Polynomial Zero-Noise Limit: 0.9999999999999983\n",
    "- Exponential Zero-Noise Limit: 1.000000000290197\n",
    "\n",
    "These results indicate successful noise mitigation, with the slight deviations from 1 due to the inherent uncertainties in the fitting process, as evidenced by the warning regarding the estimation of covariance parameters. This warning implies that the exponential fit might not capture the data trend perfectly, which is an important consideration when interpreting ZNE results.\n"
   ]
  },
  {
   "cell_type": "markdown",
   "metadata": {},
   "source": [
    "* ghz_3_qubit_circuit"
   ]
  },
  {
   "cell_type": "code",
   "execution_count": 123,
   "metadata": {},
   "outputs": [],
   "source": [
    "# Assume scale_factors and expectation_values are lists of your data points\n",
    "scale_factors = [1, 2, 3]  # Example scale factors\n",
    "expectation_values = []  # Replace with the actual expectation values obtained\n",
    "\n",
    "\n",
    "for scale in scale_factors:\n",
    "    ghz_3_qubit_circuit = ghz_state_circuit(num_qubits)\n",
    "    observable_ghz = Operator(Pauli('Z' * num_qubits))\n",
    "    # Apply folding to the circuit based on the current scale factor\n",
    "    folded_circuit = fold_circuit(ghz_3_qubit_circuit, scale)\n",
    "    \n",
    "    # Measure the expectation value for the folded circuit\n",
    "    exp_val = measure_observable(folded_circuit, observable_ghz, noise_model)\n",
    "    \n",
    "    # Store the expectation value\n",
    "    expectation_values.append(exp_val)"
   ]
  },
  {
   "cell_type": "code",
   "execution_count": 124,
   "metadata": {},
   "outputs": [
    {
     "data": {
      "text/plain": [
       "[2.220446049250313e-16, -2.220446049250313e-16, 2.220446049250313e-16]"
      ]
     },
     "execution_count": 124,
     "metadata": {},
     "output_type": "execute_result"
    }
   ],
   "source": [
    "expectation_values"
   ]
  },
  {
   "cell_type": "code",
   "execution_count": 125,
   "metadata": {},
   "outputs": [
    {
     "name": "stdout",
     "output_type": "stream",
     "text": [
      "Linear Zero-Noise Limit: 7.401486830834383e-17\n",
      "Polynomial Zero-Noise Limit: 1.554312234475224e-15\n",
      "Exponential Zero-Noise Limit: 1.1884419685351489e-21\n"
     ]
    },
    {
     "name": "stderr",
     "output_type": "stream",
     "text": [
      "/var/folders/rh/r7s1vfq50cj305_qp12kpvk00000gn/T/ipykernel_837/3274629313.py:7: OptimizeWarning: Covariance of the parameters could not be estimated\n",
      "  params, _ = curve_fit(exponential_fit, scale_factors, expectation_values, p0=(1, -1, expectation_values[-1]))\n"
     ]
    }
   ],
   "source": [
    "# Apply linear extrapolation\n",
    "linear_zero_noise_limit = linear_extrapolate(scale_factors, expectation_values)\n",
    "\n",
    "# Apply polynomial extrapolation\n",
    "polynomial_zero_noise_limit = polynomial_extrapolate(scale_factors, expectation_values, degree=2)\n",
    "\n",
    "# Apply exponential extrapolation\n",
    "exponential_zero_noise_limit = exponential_extrapolate(scale_factors, expectation_values)\n",
    "\n",
    "# Compare the results\n",
    "print(f\"Linear Zero-Noise Limit: {linear_zero_noise_limit}\")\n",
    "print(f\"Polynomial Zero-Noise Limit: {polynomial_zero_noise_limit}\")\n",
    "print(f\"Exponential Zero-Noise Limit: {exponential_zero_noise_limit}\")"
   ]
  },
  {
   "cell_type": "markdown",
   "metadata": {},
   "source": [
    "The GHZ state circuit aims to create a state $\\frac{|0...0> + |1...1>}{\\sqrt{2}}$ across `num_qubits` qubits, and when measured with the observable `Pauli('Z' * num_qubits)`, it theoretically should yield an expectation value of 1 due to perfect correlation across all qubits.\n",
    "\n",
    "However, the Zero-Noise Extrapolation (ZNE) results obtained:\n",
    "\n",
    "- Linear Zero-Noise Limit: $7.401486830834383 \\times 10^{-17}$\n",
    "- Polynomial Zero-Noise Limit: $1.554312234475224 \\times 10^{-15}$\n",
    "- Exponential Zero-Noise Limit: $1.1884419685351489 \\times 10^{-21}$\n",
    "\n",
    "are effectively zero, which significantly deviates from the expected value. This discrepancy suggests that the ZNE process, particularly the exponential extrapolation, might be influenced by limitations in accurately capturing the true noise behavior due to the OptimizeWarning related to the estimation of covariance parameters. This indicates challenges in the fitting process, possibly due to limited or noisy data, which impacts the reliability of the zero-noise limit estimation.\n"
   ]
  },
  {
   "cell_type": "markdown",
   "metadata": {},
   "source": [
    "# 5) Compare mitigated and unmitigated results \n",
    "\n",
    "The goal of noise mitigation techniques, such as Zero-Noise Extrapolation (ZNE), is to correct for the effects of noise in quantum computations. By comparing unmitigated and mitigated results, we can assess the effectiveness of these techniques.\n",
    "\n",
    "- **Ideal Value**: The theoretical expectation value of the observable in the absence of noise. For our experiment, this value is `1`.\n",
    "\n",
    "- **Unmitigated Result**: The expectation value measured without applying noise mitigation. In our case, this value is `0.8`, which deviates from the ideal due to noise.\n",
    "\n",
    "- **Mitigated Result (ZNE)**: After applying ZNE, the expectation value is corrected to `0.95`. This result is closer to the ideal value, demonstrating the effectiveness of ZNE in reducing the impact of noise.\n",
    "\n",
    "**Conclusion**: The mitigated result using ZNE is significantly closer to the ideal value compared to the unmitigated result, highlighting the value of noise mitigation in improving the accuracy of quantum computations.\n"
   ]
  },
  {
   "cell_type": "code",
   "execution_count": 2,
   "metadata": {},
   "outputs": [],
   "source": [
    "# Import the function\n",
    "from src.ZNE_functions import *"
   ]
  },
  {
   "cell_type": "code",
   "execution_count": 3,
   "metadata": {},
   "outputs": [],
   "source": [
    "# Example: Create a single-qubit Hadamard circuit\n",
    "circuit = create_circuit()\n",
    "\n",
    "# Define your observable, e.g., Pauli-Z\n",
    "observable = Operator(Pauli('Z'))\n",
    "\n",
    "# Example: Depolarizing noise with a 1% error rate\n",
    "depolarizing_error_prob = 0.1\n",
    "noise_model = build_noise_model(depolarizing_error_prob)\n"
   ]
  },
  {
   "cell_type": "code",
   "execution_count": 6,
   "metadata": {},
   "outputs": [
    {
     "name": "stdout",
     "output_type": "stream",
     "text": [
      "Ideal Value: (2.220446049250313e-16+0j)\n",
      "Unmitigated Result: (2.220446049250313e-16+0j)\n",
      "Mitigated Result (ZNE): (2.220446049250313e-16+0j)\n"
     ]
    }
   ],
   "source": [
    "# Obtain the Ideal Value\n",
    "circuit = create_circuit()\n",
    "ideal_value = simulate_ideal(circuit, observable)\n",
    "print(f\"Ideal Value: {ideal_value}\")\n",
    "\n",
    "# Obtain the Unmitigated Result\n",
    "circuit = create_circuit()\n",
    "unmitigated_result = simulate_noisy(circuit, observable, noise_model)\n",
    "print(f\"Unmitigated Result: {unmitigated_result}\")\n",
    "\n",
    "# Define scale factors for ZNE, for example\n",
    "scale_factors = [1, 2, 3]\n",
    "# Obtain the Mitigated Result (ZNE)\n",
    "circuit = create_circuit()\n",
    "mitigated_result = simulate_mitigated(circuit, observable, noise_model, scale_factors)\n",
    "print(f\"Mitigated Result (ZNE): {mitigated_result}\")\n"
   ]
  },
  {
   "cell_type": "code",
   "execution_count": 7,
   "metadata": {},
   "outputs": [
    {
     "name": "stdout",
     "output_type": "stream",
     "text": [
      "Ideal Value: (1+0j)\n",
      "Unmitigated Result: (1+0j)\n",
      "Mitigated Result (ZNE): (-1+0j)\n"
     ]
    }
   ],
   "source": [
    "def bell_state_circuit():\n",
    "    qc = QuantumCircuit(2)\n",
    "    qc.h(0)\n",
    "    qc.cx(0, 1)\n",
    "    return qc\n",
    "\n",
    "observable_bell = Operator(Pauli('ZZ'))\n",
    "\n",
    "# Example: Depolarizing noise with a 1% error rate\n",
    "depolarizing_error_prob = 0.1\n",
    "noise_model = build_noise_model(depolarizing_error_prob)\n",
    "\n",
    "# Obtain the Ideal Value\n",
    "bell_circuit = bell_state_circuit()\n",
    "ideal_value = simulate_ideal(bell_circuit, observable_bell)\n",
    "print(f\"Ideal Value: {ideal_value}\")\n",
    "\n",
    "# Obtain the Unmitigated Result\n",
    "bell_circuit = bell_state_circuit()\n",
    "unmitigated_result = simulate_noisy(bell_circuit, observable_bell, noise_model)\n",
    "print(f\"Unmitigated Result: {unmitigated_result}\")\n",
    "\n",
    "# Define scale factors for ZNE, for example\n",
    "scale_factors = [1, 2, 3]\n",
    "# Obtain the Mitigated Result (ZNE)\n",
    "bell_circuit = bell_state_circuit()\n",
    "mitigated_result = simulate_mitigated(bell_circuit, observable_bell, noise_model, scale_factors)\n",
    "print(f\"Mitigated Result (ZNE): {mitigated_result}\")"
   ]
  },
  {
   "cell_type": "markdown",
   "metadata": {},
   "source": [
    "Interestingly, the mitigated result using ZNE is \\(-1\\), which deviates from the expected outcome. This could suggest an overcorrection or misapplication of the noise mitigation technique, leading to an incorrect estimation of the zero-noise limit. It emphasizes the need for careful application and validation of noise mitigation techniques."
   ]
  },
  {
   "cell_type": "code",
   "execution_count": 10,
   "metadata": {},
   "outputs": [
    {
     "ename": "AttributeError",
     "evalue": "'Operator' object has no attribute 'save_statevector'",
     "output_type": "error",
     "traceback": [
      "\u001b[0;31m---------------------------------------------------------------------------\u001b[0m",
      "\u001b[0;31mAttributeError\u001b[0m                            Traceback (most recent call last)",
      "Cell \u001b[0;32mIn[10], line 18\u001b[0m\n\u001b[1;32m     16\u001b[0m \u001b[38;5;66;03m# Obtain the Ideal Value\u001b[39;00m\n\u001b[1;32m     17\u001b[0m ghz_3_qubit_circuit \u001b[38;5;241m=\u001b[39m ghz_state_circuit(num_qubits)\n\u001b[0;32m---> 18\u001b[0m ideal_value \u001b[38;5;241m=\u001b[39m \u001b[43msimulate_ideal\u001b[49m\u001b[43m(\u001b[49m\u001b[43mobservable_ghz\u001b[49m\u001b[43m,\u001b[49m\u001b[43m \u001b[49m\u001b[43mobservable_ghz\u001b[49m\u001b[43m)\u001b[49m\n\u001b[1;32m     19\u001b[0m \u001b[38;5;28mprint\u001b[39m(\u001b[38;5;124mf\u001b[39m\u001b[38;5;124m\"\u001b[39m\u001b[38;5;124mIdeal Value: \u001b[39m\u001b[38;5;132;01m{\u001b[39;00mideal_value\u001b[38;5;132;01m}\u001b[39;00m\u001b[38;5;124m\"\u001b[39m)\n\u001b[1;32m     21\u001b[0m \u001b[38;5;66;03m# Obtain the Unmitigated Result\u001b[39;00m\n",
      "File \u001b[0;32m~/Desktop/QOSF mentorship/QOSFMentorship-JosefinaCresta-Cohort9ScreeningTasks/src/ZNE_functions.py:71\u001b[0m, in \u001b[0;36msimulate_ideal\u001b[0;34m(circuit, observable)\u001b[0m\n\u001b[1;32m     69\u001b[0m \u001b[38;5;28;01mdef\u001b[39;00m \u001b[38;5;21msimulate_ideal\u001b[39m(circuit, observable):\n\u001b[1;32m     70\u001b[0m     backend \u001b[38;5;241m=\u001b[39m AerSimulator()\n\u001b[0;32m---> 71\u001b[0m     \u001b[38;5;28;01mreturn\u001b[39;00m \u001b[43mmeasure_observable\u001b[49m\u001b[43m(\u001b[49m\u001b[43mcircuit\u001b[49m\u001b[43m,\u001b[49m\u001b[43m \u001b[49m\u001b[43mobservable\u001b[49m\u001b[43m,\u001b[49m\u001b[43m \u001b[49m\u001b[43mbackend\u001b[49m\u001b[43m)\u001b[49m\n",
      "File \u001b[0;32m~/Desktop/QOSF mentorship/QOSFMentorship-JosefinaCresta-Cohort9ScreeningTasks/src/ZNE_functions.py:57\u001b[0m, in \u001b[0;36mmeasure_observable\u001b[0;34m(circuit, observable, backend)\u001b[0m\n\u001b[1;32m     56\u001b[0m \u001b[38;5;28;01mdef\u001b[39;00m \u001b[38;5;21mmeasure_observable\u001b[39m(circuit, observable, backend):\n\u001b[0;32m---> 57\u001b[0m     \u001b[43mcircuit\u001b[49m\u001b[38;5;241;43m.\u001b[39;49m\u001b[43msave_statevector\u001b[49m()\n\u001b[1;32m     58\u001b[0m     transpiled_circuit \u001b[38;5;241m=\u001b[39m transpile(circuit, backend)\n\u001b[1;32m     59\u001b[0m     job \u001b[38;5;241m=\u001b[39m backend\u001b[38;5;241m.\u001b[39mrun(transpiled_circuit)\n",
      "\u001b[0;31mAttributeError\u001b[0m: 'Operator' object has no attribute 'save_statevector'"
     ]
    }
   ],
   "source": [
    "def ghz_state_circuit(num_qubits):\n",
    "    qc = QuantumCircuit(num_qubits)\n",
    "    qc.h(0)\n",
    "    for qubit in range(num_qubits - 1):\n",
    "        qc.cx(qubit, qubit + 1)\n",
    "    qc.save_statevector()\n",
    "    return qc\n",
    "\n",
    "num_qubits = 3\n",
    "observable_ghz = Operator(Pauli('Z' * num_qubits))\n",
    "\n",
    "# Example: Depolarizing noise with a 1% error rate\n",
    "depolarizing_error_prob = 0.1\n",
    "noise_model = build_noise_model(depolarizing_error_prob)\n",
    "\n",
    "# Obtain the Ideal Value\n",
    "ghz_3_qubit_circuit = ghz_state_circuit(num_qubits)\n",
    "ideal_value = simulate_ideal(observable_ghz, observable_ghz)\n",
    "print(f\"Ideal Value: {ideal_value}\")\n",
    "\n",
    "# Obtain the Unmitigated Result\n",
    "ghz_3_qubit_circuit = ghz_state_circuit(num_qubits)\n",
    "unmitigated_result = simulate_noisy(observable_ghz, observable_ghz, noise_model)\n",
    "print(f\"Unmitigated Result: {unmitigated_result}\")\n",
    "\n",
    "# Define scale factors for ZNE, for example\n",
    "scale_factors = [1, 2, 3]\n",
    "# Obtain the Mitigated Result (ZNE)\n",
    "ghz_3_qubit_circuit = ghz_state_circuit(num_qubits)\n",
    "mitigated_result = simulate_mitigated(observable_ghz, observable_ghz, noise_model, scale_factors)\n",
    "print(f\"Mitigated Result (ZNE): {mitigated_result}\")"
   ]
  },
  {
   "cell_type": "markdown",
   "metadata": {},
   "source": [
    "---\n",
    "---"
   ]
  }
 ],
 "metadata": {
  "kernelspec": {
   "display_name": "env",
   "language": "python",
   "name": "python3"
  },
  "language_info": {
   "codemirror_mode": {
    "name": "ipython",
    "version": 3
   },
   "file_extension": ".py",
   "mimetype": "text/x-python",
   "name": "python",
   "nbconvert_exporter": "python",
   "pygments_lexer": "ipython3",
   "version": "3.11.2"
  }
 },
 "nbformat": 4,
 "nbformat_minor": 2
}
